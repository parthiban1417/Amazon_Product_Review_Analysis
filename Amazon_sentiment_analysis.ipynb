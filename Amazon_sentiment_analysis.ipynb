{
 "cells": [
  {
   "cell_type": "code",
   "execution_count": null,
   "id": "933cf30f",
   "metadata": {},
   "outputs": [],
   "source": [
    "import numpy as np\n",
    "import pandas as pd\n",
    "import json\n",
    "import gzip\n",
    "from datetime import datetime\n",
    "import time\n",
    "import warnings\n",
    "warnings.filterwarnings('ignore')\n",
    "import torch\n",
    "import re\n",
    "import nltk\n",
    "from transformers import pipeline\n",
    "from nltk.tokenize import word_tokenize\n",
    "from nltk.corpus import stopwords\n",
    "from nltk.stem import WordNetLemmatizer\n",
    "from sentence_transformers import SentenceTransformer as st\n",
    "from nltk.sentiment.vader import SentimentIntensityAnalyzer\n",
    "from transformers import AutoTokenizer, AutoModelForSequenceClassification"
   ]
  },
  {
   "cell_type": "code",
   "execution_count": 2,
   "id": "02e7dca7",
   "metadata": {},
   "outputs": [],
   "source": [
    "def json2df(path):\n",
    "    data=[json.loads(i) for i in open(path, 'r')]\n",
    "    df=pd.DataFrame.from_records(data)\n",
    "    return(df)"
   ]
  },
  {
   "cell_type": "code",
   "execution_count": 3,
   "id": "155135a3",
   "metadata": {},
   "outputs": [],
   "source": [
    "Digital_Music = json2df('Digital_Music.json')\n",
    "meta_Digital_Music = json2df('meta_Digital_Music.json')\n",
    "Musical_Instruments = json2df('Musical_Instruments.json')\n",
    "meta_Musical_Instruments = json2df('meta_Musical_Instruments.json')"
   ]
  },
  {
   "cell_type": "raw",
   "id": "e4ae60b1",
   "metadata": {},
   "source": [
    "len(Digital_Music)"
   ]
  },
  {
   "cell_type": "raw",
   "id": "8d184fff",
   "metadata": {},
   "source": [
    "len(meta_Digital_Music)"
   ]
  },
  {
   "cell_type": "raw",
   "id": "0d692344",
   "metadata": {},
   "source": [
    "len(Musical_Instruments)"
   ]
  },
  {
   "cell_type": "raw",
   "id": "a9425d08",
   "metadata": {},
   "source": [
    "len(meta_Musical_Instruments)"
   ]
  },
  {
   "cell_type": "code",
   "execution_count": 4,
   "id": "6ad26238",
   "metadata": {},
   "outputs": [],
   "source": [
    "Digital_Music['overall_split']=np.nan\n",
    "Digital_Music['overall_split'].loc[Digital_Music['overall']>3.0]=0\n",
    "Digital_Music['overall_split'].loc[Digital_Music['overall']<=3.0]=1"
   ]
  },
  {
   "cell_type": "code",
   "execution_count": 5,
   "id": "78eb9944",
   "metadata": {},
   "outputs": [
    {
     "data": {
      "text/plain": [
       "0.0    1460076\n",
       "1.0     124006\n",
       "Name: overall_split, dtype: int64"
      ]
     },
     "execution_count": 5,
     "metadata": {},
     "output_type": "execute_result"
    }
   ],
   "source": [
    "Digital_Music['overall_split'].value_counts()"
   ]
  },
  {
   "cell_type": "code",
   "execution_count": 6,
   "id": "6549cfe1",
   "metadata": {},
   "outputs": [],
   "source": [
    "Digital_Music1=Digital_Music.groupby('overall_split',group_keys=False).apply(lambda x: x.sample(120000))"
   ]
  },
  {
   "cell_type": "code",
   "execution_count": 7,
   "id": "00cc0eb2",
   "metadata": {},
   "outputs": [],
   "source": [
    "Musical_Instruments['overall_split']=np.nan\n",
    "Musical_Instruments['overall_split'].loc[Musical_Instruments['overall']>3.0]=0\n",
    "Musical_Instruments['overall_split'].loc[Musical_Instruments['overall']<=3.0]=1"
   ]
  },
  {
   "cell_type": "code",
   "execution_count": 8,
   "id": "1a6ab446",
   "metadata": {
    "scrolled": true
   },
   "outputs": [
    {
     "data": {
      "text/plain": [
       "0.0    1221392\n",
       "1.0     291138\n",
       "Name: overall_split, dtype: int64"
      ]
     },
     "execution_count": 8,
     "metadata": {},
     "output_type": "execute_result"
    }
   ],
   "source": [
    "Musical_Instruments['overall_split'].value_counts()"
   ]
  },
  {
   "cell_type": "code",
   "execution_count": 9,
   "id": "6927a614",
   "metadata": {},
   "outputs": [],
   "source": [
    "Musical_Instruments1=Musical_Instruments.groupby('overall_split',group_keys=False).apply(lambda x: x.sample(120000))"
   ]
  },
  {
   "cell_type": "code",
   "execution_count": 10,
   "id": "9ab562d0",
   "metadata": {},
   "outputs": [],
   "source": [
    "Digital_Music1.to_csv('Digital_Music_sample.csv',index=False)\n",
    "Musical_Instruments1.to_csv('Musical_Instruments_sample.csv',index=False)\n",
    "meta_Digital_Music.to_csv('Digital_Music_meta.csv',index=False)\n",
    "meta_Musical_Instruments.to_csv('Musical_Instruments_meta.csv',index=False)\n",
    "Digital_Music.to_csv('Digital_Music_data.csv',index=False)\n",
    "Musical_Instruments.to_csv('Musical_Instruments_data.csv',index=False)"
   ]
  },
  {
   "cell_type": "code",
   "execution_count": 114,
   "id": "098b527b",
   "metadata": {
    "scrolled": true
   },
   "outputs": [],
   "source": [
    "music_data=pd.read_csv('Digital_Music_sample.csv')\n",
    "instrument_data=pd.read_csv('Musical_Instruments_sample.csv')"
   ]
  },
  {
   "cell_type": "markdown",
   "id": "ccaf9868",
   "metadata": {},
   "source": [
    "## Data Exploration"
   ]
  },
  {
   "cell_type": "markdown",
   "id": "0ceec174",
   "metadata": {},
   "source": [
    "### Music Data"
   ]
  },
  {
   "cell_type": "code",
   "execution_count": 115,
   "id": "fa39937e",
   "metadata": {},
   "outputs": [
    {
     "data": {
      "text/html": [
       "<div>\n",
       "<style scoped>\n",
       "    .dataframe tbody tr th:only-of-type {\n",
       "        vertical-align: middle;\n",
       "    }\n",
       "\n",
       "    .dataframe tbody tr th {\n",
       "        vertical-align: top;\n",
       "    }\n",
       "\n",
       "    .dataframe thead th {\n",
       "        text-align: right;\n",
       "    }\n",
       "</style>\n",
       "<table border=\"1\" class=\"dataframe\">\n",
       "  <thead>\n",
       "    <tr style=\"text-align: right;\">\n",
       "      <th></th>\n",
       "      <th>overall</th>\n",
       "      <th>verified</th>\n",
       "      <th>reviewTime</th>\n",
       "      <th>reviewerID</th>\n",
       "      <th>asin</th>\n",
       "      <th>style</th>\n",
       "      <th>reviewerName</th>\n",
       "      <th>reviewText</th>\n",
       "      <th>summary</th>\n",
       "      <th>unixReviewTime</th>\n",
       "      <th>vote</th>\n",
       "      <th>image</th>\n",
       "      <th>overall_split</th>\n",
       "    </tr>\n",
       "  </thead>\n",
       "  <tbody>\n",
       "    <tr>\n",
       "      <th>0</th>\n",
       "      <td>5.0</td>\n",
       "      <td>True</td>\n",
       "      <td>03 14, 2013</td>\n",
       "      <td>A3UC8L25PE4DRQ</td>\n",
       "      <td>B000W18IN8</td>\n",
       "      <td>{'Format:': ' MP3 Music'}</td>\n",
       "      <td>Heather Mitchell</td>\n",
       "      <td>This song just makes me happy, I love the beat...</td>\n",
       "      <td>Happy</td>\n",
       "      <td>1363219200</td>\n",
       "      <td>NaN</td>\n",
       "      <td>NaN</td>\n",
       "      <td>0.0</td>\n",
       "    </tr>\n",
       "    <tr>\n",
       "      <th>1</th>\n",
       "      <td>4.0</td>\n",
       "      <td>True</td>\n",
       "      <td>07 14, 2014</td>\n",
       "      <td>A4C8P8UILDU7Z</td>\n",
       "      <td>B00136JA8S</td>\n",
       "      <td>{'Format:': ' MP3 Music'}</td>\n",
       "      <td>Crazy Cat Lady</td>\n",
       "      <td>Love this song. It's catchy and you can dance ...</td>\n",
       "      <td>Four Stars</td>\n",
       "      <td>1405296000</td>\n",
       "      <td>NaN</td>\n",
       "      <td>NaN</td>\n",
       "      <td>0.0</td>\n",
       "    </tr>\n",
       "    <tr>\n",
       "      <th>2</th>\n",
       "      <td>5.0</td>\n",
       "      <td>True</td>\n",
       "      <td>06 23, 2013</td>\n",
       "      <td>AHK0R8V0ZL4KL</td>\n",
       "      <td>B003A4QRU0</td>\n",
       "      <td>{'Format:': ' MP3 Music'}</td>\n",
       "      <td>Ellen M. Viars</td>\n",
       "      <td>i was so happy to learn that i could download ...</td>\n",
       "      <td>neverr my love</td>\n",
       "      <td>1371945600</td>\n",
       "      <td>NaN</td>\n",
       "      <td>NaN</td>\n",
       "      <td>0.0</td>\n",
       "    </tr>\n",
       "    <tr>\n",
       "      <th>3</th>\n",
       "      <td>5.0</td>\n",
       "      <td>False</td>\n",
       "      <td>04 2, 2005</td>\n",
       "      <td>A1EH6PWJVKD9VH</td>\n",
       "      <td>B000QZX5B0</td>\n",
       "      <td>{'Format:': ' Audio CD'}</td>\n",
       "      <td>Jon Hartley</td>\n",
       "      <td>This album in my opinion kicks just as much as...</td>\n",
       "      <td>Awsome album</td>\n",
       "      <td>1112400000</td>\n",
       "      <td>NaN</td>\n",
       "      <td>NaN</td>\n",
       "      <td>0.0</td>\n",
       "    </tr>\n",
       "    <tr>\n",
       "      <th>4</th>\n",
       "      <td>5.0</td>\n",
       "      <td>True</td>\n",
       "      <td>01 8, 2015</td>\n",
       "      <td>A3EWYJXU7V4VA0</td>\n",
       "      <td>B0048IMZTE</td>\n",
       "      <td>{'Format:': ' MP3 Music'}</td>\n",
       "      <td>Kasey M. Webb</td>\n",
       "      <td>sweet song :)</td>\n",
       "      <td>Five Stars</td>\n",
       "      <td>1420675200</td>\n",
       "      <td>NaN</td>\n",
       "      <td>NaN</td>\n",
       "      <td>0.0</td>\n",
       "    </tr>\n",
       "  </tbody>\n",
       "</table>\n",
       "</div>"
      ],
      "text/plain": [
       "   overall  verified   reviewTime      reviewerID        asin  \\\n",
       "0      5.0      True  03 14, 2013  A3UC8L25PE4DRQ  B000W18IN8   \n",
       "1      4.0      True  07 14, 2014   A4C8P8UILDU7Z  B00136JA8S   \n",
       "2      5.0      True  06 23, 2013   AHK0R8V0ZL4KL  B003A4QRU0   \n",
       "3      5.0     False   04 2, 2005  A1EH6PWJVKD9VH  B000QZX5B0   \n",
       "4      5.0      True   01 8, 2015  A3EWYJXU7V4VA0  B0048IMZTE   \n",
       "\n",
       "                       style      reviewerName  \\\n",
       "0  {'Format:': ' MP3 Music'}  Heather Mitchell   \n",
       "1  {'Format:': ' MP3 Music'}    Crazy Cat Lady   \n",
       "2  {'Format:': ' MP3 Music'}    Ellen M. Viars   \n",
       "3   {'Format:': ' Audio CD'}       Jon Hartley   \n",
       "4  {'Format:': ' MP3 Music'}     Kasey M. Webb   \n",
       "\n",
       "                                          reviewText         summary  \\\n",
       "0  This song just makes me happy, I love the beat...           Happy   \n",
       "1  Love this song. It's catchy and you can dance ...      Four Stars   \n",
       "2  i was so happy to learn that i could download ...  neverr my love   \n",
       "3  This album in my opinion kicks just as much as...    Awsome album   \n",
       "4                                      sweet song :)      Five Stars   \n",
       "\n",
       "   unixReviewTime  vote image  overall_split  \n",
       "0      1363219200   NaN   NaN            0.0  \n",
       "1      1405296000   NaN   NaN            0.0  \n",
       "2      1371945600   NaN   NaN            0.0  \n",
       "3      1112400000   NaN   NaN            0.0  \n",
       "4      1420675200   NaN   NaN            0.0  "
      ]
     },
     "execution_count": 115,
     "metadata": {},
     "output_type": "execute_result"
    }
   ],
   "source": [
    "music_data.head()"
   ]
  },
  {
   "cell_type": "code",
   "execution_count": 116,
   "id": "279cbfb4",
   "metadata": {},
   "outputs": [
    {
     "data": {
      "text/plain": [
       "(240000, 13)"
      ]
     },
     "execution_count": 116,
     "metadata": {},
     "output_type": "execute_result"
    }
   ],
   "source": [
    "music_data.shape"
   ]
  },
  {
   "cell_type": "code",
   "execution_count": 117,
   "id": "7d2f1bfc",
   "metadata": {},
   "outputs": [
    {
     "data": {
      "text/plain": [
       "overall           float64\n",
       "verified             bool\n",
       "reviewTime         object\n",
       "reviewerID         object\n",
       "asin               object\n",
       "style              object\n",
       "reviewerName       object\n",
       "reviewText         object\n",
       "summary            object\n",
       "unixReviewTime      int64\n",
       "vote              float64\n",
       "image              object\n",
       "overall_split     float64\n",
       "dtype: object"
      ]
     },
     "execution_count": 117,
     "metadata": {},
     "output_type": "execute_result"
    }
   ],
   "source": [
    "music_data.dtypes"
   ]
  },
  {
   "cell_type": "code",
   "execution_count": 118,
   "id": "8824ecba",
   "metadata": {},
   "outputs": [],
   "source": [
    "def unix2time(df,columnname):\n",
    "    s=[]\n",
    "    for i in np.array(df[columnname]):\n",
    "        ts = int(i)\n",
    "        k=datetime.utcfromtimestamp(ts).strftime('%Y-%m-%d')\n",
    "        s.append(k)\n",
    "    return(s)"
   ]
  },
  {
   "cell_type": "code",
   "execution_count": 119,
   "id": "ad141031",
   "metadata": {},
   "outputs": [],
   "source": [
    "music_data['date']=unix2time(music_data,'unixReviewTime')"
   ]
  },
  {
   "cell_type": "code",
   "execution_count": 120,
   "id": "e0bf10b6",
   "metadata": {},
   "outputs": [],
   "source": [
    "music_data['date']=pd.to_datetime(music_data['date'])"
   ]
  },
  {
   "cell_type": "code",
   "execution_count": 121,
   "id": "8707153c",
   "metadata": {},
   "outputs": [],
   "source": [
    "music_data['overall']=music_data['overall'].astype('int')"
   ]
  },
  {
   "cell_type": "code",
   "execution_count": 122,
   "id": "11903f58",
   "metadata": {},
   "outputs": [
    {
     "data": {
      "text/plain": [
       "overall                0\n",
       "verified               0\n",
       "reviewTime             0\n",
       "reviewerID             0\n",
       "asin                   0\n",
       "style              43321\n",
       "reviewerName          16\n",
       "reviewText           153\n",
       "summary               74\n",
       "unixReviewTime         0\n",
       "vote              211417\n",
       "image             238923\n",
       "overall_split          0\n",
       "date                   0\n",
       "dtype: int64"
      ]
     },
     "execution_count": 122,
     "metadata": {},
     "output_type": "execute_result"
    }
   ],
   "source": [
    "music_data.isnull().sum()"
   ]
  },
  {
   "cell_type": "code",
   "execution_count": 123,
   "id": "11ada98d",
   "metadata": {},
   "outputs": [],
   "source": [
    "music_data.drop(['vote','reviewTime','image','style','reviewerName'],axis=1,inplace=True)\n",
    "music_data.dropna(inplace=True)"
   ]
  },
  {
   "cell_type": "code",
   "execution_count": 124,
   "id": "4b495dd9",
   "metadata": {},
   "outputs": [
    {
     "data": {
      "text/plain": [
       "overall           0\n",
       "verified          0\n",
       "reviewerID        0\n",
       "asin              0\n",
       "reviewText        0\n",
       "summary           0\n",
       "unixReviewTime    0\n",
       "overall_split     0\n",
       "date              0\n",
       "dtype: int64"
      ]
     },
     "execution_count": 124,
     "metadata": {},
     "output_type": "execute_result"
    }
   ],
   "source": [
    "music_data.isnull().sum()"
   ]
  },
  {
   "cell_type": "code",
   "execution_count": 125,
   "id": "0087ac83",
   "metadata": {},
   "outputs": [
    {
     "data": {
      "text/plain": [
       "(239783, 9)"
      ]
     },
     "execution_count": 125,
     "metadata": {},
     "output_type": "execute_result"
    }
   ],
   "source": [
    "music_data.shape"
   ]
  },
  {
   "cell_type": "code",
   "execution_count": 126,
   "id": "eafaa570",
   "metadata": {},
   "outputs": [
    {
     "data": {
      "text/html": [
       "<div>\n",
       "<style scoped>\n",
       "    .dataframe tbody tr th:only-of-type {\n",
       "        vertical-align: middle;\n",
       "    }\n",
       "\n",
       "    .dataframe tbody tr th {\n",
       "        vertical-align: top;\n",
       "    }\n",
       "\n",
       "    .dataframe thead th {\n",
       "        text-align: right;\n",
       "    }\n",
       "</style>\n",
       "<table border=\"1\" class=\"dataframe\">\n",
       "  <thead>\n",
       "    <tr style=\"text-align: right;\">\n",
       "      <th></th>\n",
       "      <th>overall</th>\n",
       "      <th>unixReviewTime</th>\n",
       "      <th>overall_split</th>\n",
       "    </tr>\n",
       "  </thead>\n",
       "  <tbody>\n",
       "    <tr>\n",
       "      <th>count</th>\n",
       "      <td>239783.000000</td>\n",
       "      <td>2.397830e+05</td>\n",
       "      <td>239783.000000</td>\n",
       "    </tr>\n",
       "    <tr>\n",
       "      <th>mean</th>\n",
       "      <td>3.495031</td>\n",
       "      <td>1.402848e+09</td>\n",
       "      <td>0.500152</td>\n",
       "    </tr>\n",
       "    <tr>\n",
       "      <th>std</th>\n",
       "      <td>1.535608</td>\n",
       "      <td>8.565976e+07</td>\n",
       "      <td>0.500001</td>\n",
       "    </tr>\n",
       "    <tr>\n",
       "      <th>min</th>\n",
       "      <td>1.000000</td>\n",
       "      <td>8.806752e+08</td>\n",
       "      <td>0.000000</td>\n",
       "    </tr>\n",
       "    <tr>\n",
       "      <th>25%</th>\n",
       "      <td>2.000000</td>\n",
       "      <td>1.369181e+09</td>\n",
       "      <td>0.000000</td>\n",
       "    </tr>\n",
       "    <tr>\n",
       "      <th>50%</th>\n",
       "      <td>3.000000</td>\n",
       "      <td>1.418170e+09</td>\n",
       "      <td>1.000000</td>\n",
       "    </tr>\n",
       "    <tr>\n",
       "      <th>75%</th>\n",
       "      <td>5.000000</td>\n",
       "      <td>1.456963e+09</td>\n",
       "      <td>1.000000</td>\n",
       "    </tr>\n",
       "    <tr>\n",
       "      <th>max</th>\n",
       "      <td>5.000000</td>\n",
       "      <td>1.538438e+09</td>\n",
       "      <td>1.000000</td>\n",
       "    </tr>\n",
       "  </tbody>\n",
       "</table>\n",
       "</div>"
      ],
      "text/plain": [
       "             overall  unixReviewTime  overall_split\n",
       "count  239783.000000    2.397830e+05  239783.000000\n",
       "mean        3.495031    1.402848e+09       0.500152\n",
       "std         1.535608    8.565976e+07       0.500001\n",
       "min         1.000000    8.806752e+08       0.000000\n",
       "25%         2.000000    1.369181e+09       0.000000\n",
       "50%         3.000000    1.418170e+09       1.000000\n",
       "75%         5.000000    1.456963e+09       1.000000\n",
       "max         5.000000    1.538438e+09       1.000000"
      ]
     },
     "execution_count": 126,
     "metadata": {},
     "output_type": "execute_result"
    }
   ],
   "source": [
    "music_data.describe()"
   ]
  },
  {
   "cell_type": "code",
   "execution_count": 127,
   "id": "c5bae553",
   "metadata": {},
   "outputs": [
    {
     "data": {
      "text/plain": [
       "overall                    int32\n",
       "verified                    bool\n",
       "reviewerID                object\n",
       "asin                      object\n",
       "reviewText                object\n",
       "summary                   object\n",
       "unixReviewTime             int64\n",
       "overall_split            float64\n",
       "date              datetime64[ns]\n",
       "dtype: object"
      ]
     },
     "execution_count": 127,
     "metadata": {},
     "output_type": "execute_result"
    }
   ],
   "source": [
    "music_data.dtypes"
   ]
  },
  {
   "cell_type": "code",
   "execution_count": 128,
   "id": "cefaad15",
   "metadata": {},
   "outputs": [],
   "source": [
    "music_data['text']=music_data['reviewText'].astype(str)+' ' + music_data['summary'].astype(str)"
   ]
  },
  {
   "cell_type": "code",
   "execution_count": 129,
   "id": "eb7c7a2f",
   "metadata": {},
   "outputs": [],
   "source": [
    "music_data.drop(columns=['reviewText','summary'],inplace=True)"
   ]
  },
  {
   "cell_type": "code",
   "execution_count": 130,
   "id": "d4358211",
   "metadata": {},
   "outputs": [],
   "source": [
    "def clean_text(text):\n",
    "    # Remove all non-letters and non-spaces except for hyphens and digits\n",
    "    text = re.sub(\"[^0-9A-Za-z\\- ]+\", \" \", text)\n",
    "    # Remove all numbers except those attached to a word\n",
    "    text = re.sub(\"(?<!\\w)\\d+\", \"\", text)\n",
    "    # Remove all hyphens except between two words\n",
    "    text = re.sub(\"-(?!\\w)|(?<!\\w)-\", \"\", text)\n",
    "    # Remove multiple spaces and lowercase everything\n",
    "    text = \" \".join(text.split())\n",
    "    text = text.lower()\n",
    "    return text"
   ]
  },
  {
   "cell_type": "code",
   "execution_count": 131,
   "id": "5ca9517f",
   "metadata": {},
   "outputs": [],
   "source": [
    "music_data['text'] = music_data['text'].apply(clean_text)"
   ]
  },
  {
   "cell_type": "code",
   "execution_count": 132,
   "id": "f9ef50a9",
   "metadata": {
    "collapsed": true
   },
   "outputs": [
    {
     "data": {
      "text/plain": [
       "['i',\n",
       " 'me',\n",
       " 'my',\n",
       " 'myself',\n",
       " 'we',\n",
       " 'our',\n",
       " 'ours',\n",
       " 'ourselves',\n",
       " 'you',\n",
       " \"you're\",\n",
       " \"you've\",\n",
       " \"you'll\",\n",
       " \"you'd\",\n",
       " 'your',\n",
       " 'yours',\n",
       " 'yourself',\n",
       " 'yourselves',\n",
       " 'he',\n",
       " 'him',\n",
       " 'his',\n",
       " 'himself',\n",
       " 'she',\n",
       " \"she's\",\n",
       " 'her',\n",
       " 'hers',\n",
       " 'herself',\n",
       " 'it',\n",
       " \"it's\",\n",
       " 'its',\n",
       " 'itself',\n",
       " 'they',\n",
       " 'them',\n",
       " 'their',\n",
       " 'theirs',\n",
       " 'themselves',\n",
       " 'what',\n",
       " 'which',\n",
       " 'who',\n",
       " 'whom',\n",
       " 'this',\n",
       " 'that',\n",
       " \"that'll\",\n",
       " 'these',\n",
       " 'those',\n",
       " 'am',\n",
       " 'is',\n",
       " 'are',\n",
       " 'was',\n",
       " 'were',\n",
       " 'be',\n",
       " 'been',\n",
       " 'being',\n",
       " 'have',\n",
       " 'has',\n",
       " 'had',\n",
       " 'having',\n",
       " 'do',\n",
       " 'does',\n",
       " 'did',\n",
       " 'doing',\n",
       " 'a',\n",
       " 'an',\n",
       " 'the',\n",
       " 'and',\n",
       " 'but',\n",
       " 'if',\n",
       " 'or',\n",
       " 'because',\n",
       " 'as',\n",
       " 'until',\n",
       " 'while',\n",
       " 'of',\n",
       " 'at',\n",
       " 'by',\n",
       " 'for',\n",
       " 'with',\n",
       " 'about',\n",
       " 'against',\n",
       " 'between',\n",
       " 'into',\n",
       " 'through',\n",
       " 'during',\n",
       " 'before',\n",
       " 'after',\n",
       " 'above',\n",
       " 'below',\n",
       " 'to',\n",
       " 'from',\n",
       " 'up',\n",
       " 'down',\n",
       " 'in',\n",
       " 'out',\n",
       " 'on',\n",
       " 'off',\n",
       " 'over',\n",
       " 'under',\n",
       " 'again',\n",
       " 'further',\n",
       " 'then',\n",
       " 'once',\n",
       " 'here',\n",
       " 'there',\n",
       " 'when',\n",
       " 'where',\n",
       " 'why',\n",
       " 'how',\n",
       " 'all',\n",
       " 'any',\n",
       " 'both',\n",
       " 'each',\n",
       " 'few',\n",
       " 'more',\n",
       " 'most',\n",
       " 'other',\n",
       " 'some',\n",
       " 'such',\n",
       " 'no',\n",
       " 'nor',\n",
       " 'not',\n",
       " 'only',\n",
       " 'own',\n",
       " 'same',\n",
       " 'so',\n",
       " 'than',\n",
       " 'too',\n",
       " 'very',\n",
       " 's',\n",
       " 't',\n",
       " 'can',\n",
       " 'will',\n",
       " 'just',\n",
       " 'don',\n",
       " \"don't\",\n",
       " 'should',\n",
       " \"should've\",\n",
       " 'now',\n",
       " 'd',\n",
       " 'll',\n",
       " 'm',\n",
       " 'o',\n",
       " 're',\n",
       " 've',\n",
       " 'y',\n",
       " 'ain',\n",
       " 'aren',\n",
       " \"aren't\",\n",
       " 'couldn',\n",
       " \"couldn't\",\n",
       " 'didn',\n",
       " \"didn't\",\n",
       " 'doesn',\n",
       " \"doesn't\",\n",
       " 'hadn',\n",
       " \"hadn't\",\n",
       " 'hasn',\n",
       " \"hasn't\",\n",
       " 'haven',\n",
       " \"haven't\",\n",
       " 'isn',\n",
       " \"isn't\",\n",
       " 'ma',\n",
       " 'mightn',\n",
       " \"mightn't\",\n",
       " 'mustn',\n",
       " \"mustn't\",\n",
       " 'needn',\n",
       " \"needn't\",\n",
       " 'shan',\n",
       " \"shan't\",\n",
       " 'shouldn',\n",
       " \"shouldn't\",\n",
       " 'wasn',\n",
       " \"wasn't\",\n",
       " 'weren',\n",
       " \"weren't\",\n",
       " 'won',\n",
       " \"won't\",\n",
       " 'wouldn',\n",
       " \"wouldn't\"]"
      ]
     },
     "execution_count": 132,
     "metadata": {},
     "output_type": "execute_result"
    }
   ],
   "source": [
    "stop_words = stopwords.words('english')\n",
    "stop_words"
   ]
  },
  {
   "cell_type": "code",
   "execution_count": 133,
   "id": "9d4c5af1",
   "metadata": {},
   "outputs": [],
   "source": [
    "stop = ['i','me','my','myself','we','our','ours','ourselves','you',\"you're\",\"you've\",\"you'll\",\"you'd\",'your','yours','yourself','yourselves','he',\n",
    "'him','his','himself','she',\"she's\",'her','hers','herself','it',\"it's\",'its','itself','they','them','their','theirs','themselves','what','which','who','whom',\n",
    "'this','that',\"that'll\",'these','those','am','is','are','was','were','be','been','being','have','has','had','having','do','does','did',\n",
    "'doing','a','an','the','and','but','if','or','because','as','until','while','of','at','by','for','with','about','against','between','into',\n",
    "'through','during','before','after','above','below','to','from','up','down','in','out','on','off','over','under','again','further','then','once',\n",
    "'here','there','when','where','why','how','all','any','both','each','few','more','most','other','some','such','no','nor','only','own',\n",
    "'same','so','than','too','very','s','t','can','will','just','don','should',\"should've\",'now','d','ll','m','o','re','ve','y','ain',\n",
    "'aren',\"aren't\",'couldn',\"couldn't\",'didn',\"didn't\",'doesn',\"doesn't\",'hadn',\"hadn't\",'hasn',\"hasn't\",'haven',\"haven't\",'isn',\"isn't\",\n",
    "'ma','mightn',\"mightn't\",'mustn',\"mustn't\",'needn',\"needn't\",'shan',\"shan't\",'shouldn','wasn',\"wasn't\",'weren',\"weren't\",'won',\"won't\",\n",
    "'wouldn',\"wouldn't\"]"
   ]
  },
  {
   "cell_type": "code",
   "execution_count": 134,
   "id": "8d58af86",
   "metadata": {},
   "outputs": [],
   "source": [
    "lemmatizer = WordNetLemmatizer()\n",
    "\n",
    "music_data['text_token'] = music_data['text'].apply(lambda x: ' '.join([lemmatizer.lemmatize(word) for word in x.split() if word not in stop]))"
   ]
  },
  {
   "cell_type": "code",
   "execution_count": 135,
   "id": "b772b9c0",
   "metadata": {},
   "outputs": [],
   "source": [
    "music_data['text_token']=music_data['text_token'].apply(word_tokenize)"
   ]
  },
  {
   "cell_type": "code",
   "execution_count": 136,
   "id": "ca6ddd4d",
   "metadata": {
    "scrolled": true
   },
   "outputs": [
    {
     "data": {
      "text/html": [
       "<div>\n",
       "<style scoped>\n",
       "    .dataframe tbody tr th:only-of-type {\n",
       "        vertical-align: middle;\n",
       "    }\n",
       "\n",
       "    .dataframe tbody tr th {\n",
       "        vertical-align: top;\n",
       "    }\n",
       "\n",
       "    .dataframe thead th {\n",
       "        text-align: right;\n",
       "    }\n",
       "</style>\n",
       "<table border=\"1\" class=\"dataframe\">\n",
       "  <thead>\n",
       "    <tr style=\"text-align: right;\">\n",
       "      <th></th>\n",
       "      <th>overall</th>\n",
       "      <th>verified</th>\n",
       "      <th>reviewerID</th>\n",
       "      <th>asin</th>\n",
       "      <th>unixReviewTime</th>\n",
       "      <th>overall_split</th>\n",
       "      <th>date</th>\n",
       "      <th>text</th>\n",
       "      <th>text_token</th>\n",
       "    </tr>\n",
       "  </thead>\n",
       "  <tbody>\n",
       "    <tr>\n",
       "      <th>0</th>\n",
       "      <td>5</td>\n",
       "      <td>True</td>\n",
       "      <td>A3UC8L25PE4DRQ</td>\n",
       "      <td>B000W18IN8</td>\n",
       "      <td>1363219200</td>\n",
       "      <td>0.0</td>\n",
       "      <td>2013-03-14</td>\n",
       "      <td>this song just makes me happy i love the beat ...</td>\n",
       "      <td>[song, make, happy, love, beat, lyric, bad, mo...</td>\n",
       "    </tr>\n",
       "    <tr>\n",
       "      <th>1</th>\n",
       "      <td>4</td>\n",
       "      <td>True</td>\n",
       "      <td>A4C8P8UILDU7Z</td>\n",
       "      <td>B00136JA8S</td>\n",
       "      <td>1405296000</td>\n",
       "      <td>0.0</td>\n",
       "      <td>2014-07-14</td>\n",
       "      <td>love this song it s catchy and you can dance t...</td>\n",
       "      <td>[love, song, catchy, dance, four, star]</td>\n",
       "    </tr>\n",
       "    <tr>\n",
       "      <th>2</th>\n",
       "      <td>5</td>\n",
       "      <td>True</td>\n",
       "      <td>AHK0R8V0ZL4KL</td>\n",
       "      <td>B003A4QRU0</td>\n",
       "      <td>1371945600</td>\n",
       "      <td>0.0</td>\n",
       "      <td>2013-06-23</td>\n",
       "      <td>i was so happy to learn that i could download ...</td>\n",
       "      <td>[happy, learn, could, download, music, song, l...</td>\n",
       "    </tr>\n",
       "    <tr>\n",
       "      <th>3</th>\n",
       "      <td>5</td>\n",
       "      <td>False</td>\n",
       "      <td>A1EH6PWJVKD9VH</td>\n",
       "      <td>B000QZX5B0</td>\n",
       "      <td>1112400000</td>\n",
       "      <td>0.0</td>\n",
       "      <td>2005-04-02</td>\n",
       "      <td>this album in my opinion kicks just as much as...</td>\n",
       "      <td>[album, opinion, kick, much, as, every, one, s...</td>\n",
       "    </tr>\n",
       "    <tr>\n",
       "      <th>4</th>\n",
       "      <td>5</td>\n",
       "      <td>True</td>\n",
       "      <td>A3EWYJXU7V4VA0</td>\n",
       "      <td>B0048IMZTE</td>\n",
       "      <td>1420675200</td>\n",
       "      <td>0.0</td>\n",
       "      <td>2015-01-08</td>\n",
       "      <td>sweet song five stars</td>\n",
       "      <td>[sweet, song, five, star]</td>\n",
       "    </tr>\n",
       "  </tbody>\n",
       "</table>\n",
       "</div>"
      ],
      "text/plain": [
       "   overall  verified      reviewerID        asin  unixReviewTime  \\\n",
       "0        5      True  A3UC8L25PE4DRQ  B000W18IN8      1363219200   \n",
       "1        4      True   A4C8P8UILDU7Z  B00136JA8S      1405296000   \n",
       "2        5      True   AHK0R8V0ZL4KL  B003A4QRU0      1371945600   \n",
       "3        5     False  A1EH6PWJVKD9VH  B000QZX5B0      1112400000   \n",
       "4        5      True  A3EWYJXU7V4VA0  B0048IMZTE      1420675200   \n",
       "\n",
       "   overall_split       date  \\\n",
       "0            0.0 2013-03-14   \n",
       "1            0.0 2014-07-14   \n",
       "2            0.0 2013-06-23   \n",
       "3            0.0 2005-04-02   \n",
       "4            0.0 2015-01-08   \n",
       "\n",
       "                                                text  \\\n",
       "0  this song just makes me happy i love the beat ...   \n",
       "1  love this song it s catchy and you can dance t...   \n",
       "2  i was so happy to learn that i could download ...   \n",
       "3  this album in my opinion kicks just as much as...   \n",
       "4                              sweet song five stars   \n",
       "\n",
       "                                          text_token  \n",
       "0  [song, make, happy, love, beat, lyric, bad, mo...  \n",
       "1            [love, song, catchy, dance, four, star]  \n",
       "2  [happy, learn, could, download, music, song, l...  \n",
       "3  [album, opinion, kick, much, as, every, one, s...  \n",
       "4                          [sweet, song, five, star]  "
      ]
     },
     "execution_count": 136,
     "metadata": {},
     "output_type": "execute_result"
    }
   ],
   "source": [
    "music_data.head()"
   ]
  },
  {
   "cell_type": "raw",
   "id": "61624f6c",
   "metadata": {},
   "source": [
    "m1=music_data.sample(n=40000,random_state=17,ignore_index=True)"
   ]
  },
  {
   "cell_type": "raw",
   "id": "73ceab3c",
   "metadata": {},
   "source": [
    "embedder_model = st('sentence-transformers/all-distilroberta-v1') "
   ]
  },
  {
   "cell_type": "raw",
   "id": "94c8e858",
   "metadata": {},
   "source": [
    "corpus1 = list(m1['text'])"
   ]
  },
  {
   "cell_type": "raw",
   "id": "bcf8b120",
   "metadata": {},
   "source": [
    "a=time.time()\n",
    "music_embedding = embedder_model.encode(corpus1)\n",
    "b=time.time()"
   ]
  },
  {
   "cell_type": "code",
   "execution_count": 156,
   "id": "79db5603",
   "metadata": {},
   "outputs": [
    {
     "data": {
      "text/plain": [
       "2355.676726102829"
      ]
     },
     "execution_count": 156,
     "metadata": {},
     "output_type": "execute_result"
    }
   ],
   "source": [
    "c=b-a\n",
    "c"
   ]
  },
  {
   "cell_type": "raw",
   "id": "413a6500",
   "metadata": {},
   "source": [
    "music_bert=pd.DataFrame(music_embedding)"
   ]
  },
  {
   "cell_type": "raw",
   "id": "d9637c6f",
   "metadata": {},
   "source": [
    "music_bert.to_csv('music_vectorized.csv',index=False)"
   ]
  },
  {
   "cell_type": "code",
   "execution_count": 41,
   "id": "628214fe",
   "metadata": {},
   "outputs": [
    {
     "data": {
      "text/html": [
       "<div>\n",
       "<style scoped>\n",
       "    .dataframe tbody tr th:only-of-type {\n",
       "        vertical-align: middle;\n",
       "    }\n",
       "\n",
       "    .dataframe tbody tr th {\n",
       "        vertical-align: top;\n",
       "    }\n",
       "\n",
       "    .dataframe thead th {\n",
       "        text-align: right;\n",
       "    }\n",
       "</style>\n",
       "<table border=\"1\" class=\"dataframe\">\n",
       "  <thead>\n",
       "    <tr style=\"text-align: right;\">\n",
       "      <th></th>\n",
       "      <th>0</th>\n",
       "      <th>1</th>\n",
       "      <th>2</th>\n",
       "      <th>3</th>\n",
       "      <th>4</th>\n",
       "      <th>5</th>\n",
       "      <th>6</th>\n",
       "      <th>7</th>\n",
       "      <th>8</th>\n",
       "      <th>9</th>\n",
       "      <th>...</th>\n",
       "      <th>758</th>\n",
       "      <th>759</th>\n",
       "      <th>760</th>\n",
       "      <th>761</th>\n",
       "      <th>762</th>\n",
       "      <th>763</th>\n",
       "      <th>764</th>\n",
       "      <th>765</th>\n",
       "      <th>766</th>\n",
       "      <th>767</th>\n",
       "    </tr>\n",
       "  </thead>\n",
       "  <tbody>\n",
       "    <tr>\n",
       "      <th>0</th>\n",
       "      <td>0.006341</td>\n",
       "      <td>-0.048968</td>\n",
       "      <td>0.050782</td>\n",
       "      <td>0.004770</td>\n",
       "      <td>0.014288</td>\n",
       "      <td>-0.054868</td>\n",
       "      <td>-0.042598</td>\n",
       "      <td>-0.005151</td>\n",
       "      <td>-0.006990</td>\n",
       "      <td>0.062035</td>\n",
       "      <td>...</td>\n",
       "      <td>-0.004214</td>\n",
       "      <td>0.015523</td>\n",
       "      <td>0.008789</td>\n",
       "      <td>0.044980</td>\n",
       "      <td>-0.013625</td>\n",
       "      <td>-0.009514</td>\n",
       "      <td>0.099590</td>\n",
       "      <td>-0.044852</td>\n",
       "      <td>-0.035846</td>\n",
       "      <td>0.017131</td>\n",
       "    </tr>\n",
       "    <tr>\n",
       "      <th>1</th>\n",
       "      <td>-0.016574</td>\n",
       "      <td>-0.014582</td>\n",
       "      <td>0.004706</td>\n",
       "      <td>-0.057177</td>\n",
       "      <td>0.027480</td>\n",
       "      <td>-0.067841</td>\n",
       "      <td>-0.070344</td>\n",
       "      <td>0.090828</td>\n",
       "      <td>0.025527</td>\n",
       "      <td>-0.043992</td>\n",
       "      <td>...</td>\n",
       "      <td>-0.005843</td>\n",
       "      <td>0.024512</td>\n",
       "      <td>0.043574</td>\n",
       "      <td>0.020036</td>\n",
       "      <td>-0.071452</td>\n",
       "      <td>0.008643</td>\n",
       "      <td>0.052097</td>\n",
       "      <td>-0.027362</td>\n",
       "      <td>-0.052158</td>\n",
       "      <td>-0.024019</td>\n",
       "    </tr>\n",
       "    <tr>\n",
       "      <th>2</th>\n",
       "      <td>-0.002461</td>\n",
       "      <td>-0.013773</td>\n",
       "      <td>0.038159</td>\n",
       "      <td>-0.048271</td>\n",
       "      <td>0.024668</td>\n",
       "      <td>0.006964</td>\n",
       "      <td>-0.033701</td>\n",
       "      <td>0.009722</td>\n",
       "      <td>0.016837</td>\n",
       "      <td>0.047756</td>\n",
       "      <td>...</td>\n",
       "      <td>-0.031977</td>\n",
       "      <td>0.014965</td>\n",
       "      <td>-0.011510</td>\n",
       "      <td>0.023670</td>\n",
       "      <td>-0.033534</td>\n",
       "      <td>0.071706</td>\n",
       "      <td>0.086084</td>\n",
       "      <td>-0.030905</td>\n",
       "      <td>-0.061779</td>\n",
       "      <td>0.029862</td>\n",
       "    </tr>\n",
       "    <tr>\n",
       "      <th>3</th>\n",
       "      <td>0.019229</td>\n",
       "      <td>0.058249</td>\n",
       "      <td>-0.015583</td>\n",
       "      <td>-0.021432</td>\n",
       "      <td>0.017944</td>\n",
       "      <td>-0.017404</td>\n",
       "      <td>0.026222</td>\n",
       "      <td>0.032445</td>\n",
       "      <td>-0.006221</td>\n",
       "      <td>-0.026489</td>\n",
       "      <td>...</td>\n",
       "      <td>-0.011361</td>\n",
       "      <td>0.005258</td>\n",
       "      <td>-0.000200</td>\n",
       "      <td>-0.007923</td>\n",
       "      <td>-0.021057</td>\n",
       "      <td>0.065149</td>\n",
       "      <td>0.088129</td>\n",
       "      <td>-0.031753</td>\n",
       "      <td>-0.027974</td>\n",
       "      <td>0.036131</td>\n",
       "    </tr>\n",
       "    <tr>\n",
       "      <th>4</th>\n",
       "      <td>0.046710</td>\n",
       "      <td>0.056445</td>\n",
       "      <td>0.059222</td>\n",
       "      <td>0.019981</td>\n",
       "      <td>-0.006979</td>\n",
       "      <td>0.000911</td>\n",
       "      <td>0.029603</td>\n",
       "      <td>-0.046746</td>\n",
       "      <td>-0.007103</td>\n",
       "      <td>-0.019995</td>\n",
       "      <td>...</td>\n",
       "      <td>0.007344</td>\n",
       "      <td>0.010331</td>\n",
       "      <td>-0.018815</td>\n",
       "      <td>0.048318</td>\n",
       "      <td>-0.141372</td>\n",
       "      <td>0.041775</td>\n",
       "      <td>-0.005285</td>\n",
       "      <td>-0.059265</td>\n",
       "      <td>0.020586</td>\n",
       "      <td>-0.043401</td>\n",
       "    </tr>\n",
       "  </tbody>\n",
       "</table>\n",
       "<p>5 rows × 768 columns</p>\n",
       "</div>"
      ],
      "text/plain": [
       "          0         1         2         3         4         5         6  \\\n",
       "0  0.006341 -0.048968  0.050782  0.004770  0.014288 -0.054868 -0.042598   \n",
       "1 -0.016574 -0.014582  0.004706 -0.057177  0.027480 -0.067841 -0.070344   \n",
       "2 -0.002461 -0.013773  0.038159 -0.048271  0.024668  0.006964 -0.033701   \n",
       "3  0.019229  0.058249 -0.015583 -0.021432  0.017944 -0.017404  0.026222   \n",
       "4  0.046710  0.056445  0.059222  0.019981 -0.006979  0.000911  0.029603   \n",
       "\n",
       "          7         8         9  ...       758       759       760       761  \\\n",
       "0 -0.005151 -0.006990  0.062035  ... -0.004214  0.015523  0.008789  0.044980   \n",
       "1  0.090828  0.025527 -0.043992  ... -0.005843  0.024512  0.043574  0.020036   \n",
       "2  0.009722  0.016837  0.047756  ... -0.031977  0.014965 -0.011510  0.023670   \n",
       "3  0.032445 -0.006221 -0.026489  ... -0.011361  0.005258 -0.000200 -0.007923   \n",
       "4 -0.046746 -0.007103 -0.019995  ...  0.007344  0.010331 -0.018815  0.048318   \n",
       "\n",
       "        762       763       764       765       766       767  \n",
       "0 -0.013625 -0.009514  0.099590 -0.044852 -0.035846  0.017131  \n",
       "1 -0.071452  0.008643  0.052097 -0.027362 -0.052158 -0.024019  \n",
       "2 -0.033534  0.071706  0.086084 -0.030905 -0.061779  0.029862  \n",
       "3 -0.021057  0.065149  0.088129 -0.031753 -0.027974  0.036131  \n",
       "4 -0.141372  0.041775 -0.005285 -0.059265  0.020586 -0.043401  \n",
       "\n",
       "[5 rows x 768 columns]"
      ]
     },
     "execution_count": 41,
     "metadata": {},
     "output_type": "execute_result"
    }
   ],
   "source": [
    "music_vectorized=pd.read_csv('music_vectorized.csv')\n",
    "music_vectorized.head()"
   ]
  },
  {
   "cell_type": "markdown",
   "id": "80ee96bb",
   "metadata": {},
   "source": [
    "### Instrument Data"
   ]
  },
  {
   "cell_type": "code",
   "execution_count": 137,
   "id": "533284bb",
   "metadata": {},
   "outputs": [
    {
     "data": {
      "text/html": [
       "<div>\n",
       "<style scoped>\n",
       "    .dataframe tbody tr th:only-of-type {\n",
       "        vertical-align: middle;\n",
       "    }\n",
       "\n",
       "    .dataframe tbody tr th {\n",
       "        vertical-align: top;\n",
       "    }\n",
       "\n",
       "    .dataframe thead th {\n",
       "        text-align: right;\n",
       "    }\n",
       "</style>\n",
       "<table border=\"1\" class=\"dataframe\">\n",
       "  <thead>\n",
       "    <tr style=\"text-align: right;\">\n",
       "      <th></th>\n",
       "      <th>overall</th>\n",
       "      <th>vote</th>\n",
       "      <th>verified</th>\n",
       "      <th>reviewTime</th>\n",
       "      <th>reviewerID</th>\n",
       "      <th>asin</th>\n",
       "      <th>style</th>\n",
       "      <th>reviewerName</th>\n",
       "      <th>reviewText</th>\n",
       "      <th>summary</th>\n",
       "      <th>unixReviewTime</th>\n",
       "      <th>image</th>\n",
       "      <th>overall_split</th>\n",
       "    </tr>\n",
       "  </thead>\n",
       "  <tbody>\n",
       "    <tr>\n",
       "      <th>0</th>\n",
       "      <td>5.0</td>\n",
       "      <td>NaN</td>\n",
       "      <td>True</td>\n",
       "      <td>01 23, 2017</td>\n",
       "      <td>AO3S8ECI9UKNR</td>\n",
       "      <td>B000EELFTW</td>\n",
       "      <td>NaN</td>\n",
       "      <td>M &amp;amp;amp; J P</td>\n",
       "      <td>Works well/good quality</td>\n",
       "      <td>Recommend</td>\n",
       "      <td>1485129600</td>\n",
       "      <td>NaN</td>\n",
       "      <td>0.0</td>\n",
       "    </tr>\n",
       "    <tr>\n",
       "      <th>1</th>\n",
       "      <td>5.0</td>\n",
       "      <td>10.0</td>\n",
       "      <td>True</td>\n",
       "      <td>03 21, 2017</td>\n",
       "      <td>A19OPCXN2BSMNB</td>\n",
       "      <td>B003YOT65E</td>\n",
       "      <td>{'Color:': ' Black', 'Style:': ' Guitar Only'}</td>\n",
       "      <td>Jenn</td>\n",
       "      <td>I don't expect much from a $35 guitar. I wante...</td>\n",
       "      <td>Best value at this price point</td>\n",
       "      <td>1490054400</td>\n",
       "      <td>NaN</td>\n",
       "      <td>0.0</td>\n",
       "    </tr>\n",
       "    <tr>\n",
       "      <th>2</th>\n",
       "      <td>5.0</td>\n",
       "      <td>NaN</td>\n",
       "      <td>True</td>\n",
       "      <td>02 21, 2014</td>\n",
       "      <td>A19OG7CX70QMMX</td>\n",
       "      <td>B004Z8ORXO</td>\n",
       "      <td>{'Color:': ' Bright Red'}</td>\n",
       "      <td>Jody Cranford</td>\n",
       "      <td>This is like a grown up drum kit, that's gone ...</td>\n",
       "      <td>High quality drum kit for anyone!!  Well small...</td>\n",
       "      <td>1392940800</td>\n",
       "      <td>NaN</td>\n",
       "      <td>0.0</td>\n",
       "    </tr>\n",
       "    <tr>\n",
       "      <th>3</th>\n",
       "      <td>5.0</td>\n",
       "      <td>NaN</td>\n",
       "      <td>True</td>\n",
       "      <td>11 30, 2014</td>\n",
       "      <td>AZILBE3JAU7ND</td>\n",
       "      <td>B004Z17008</td>\n",
       "      <td>{'Size:': ' SN6'}</td>\n",
       "      <td>BDFU</td>\n",
       "      <td>Best tuner on the market. I own several of the...</td>\n",
       "      <td>Best tuner on the market</td>\n",
       "      <td>1417305600</td>\n",
       "      <td>NaN</td>\n",
       "      <td>0.0</td>\n",
       "    </tr>\n",
       "    <tr>\n",
       "      <th>4</th>\n",
       "      <td>5.0</td>\n",
       "      <td>NaN</td>\n",
       "      <td>True</td>\n",
       "      <td>01 4, 2015</td>\n",
       "      <td>A3BRP3OO1911O2</td>\n",
       "      <td>B000189YD0</td>\n",
       "      <td>{'Color:': ' Liquid Black'}</td>\n",
       "      <td>Laura</td>\n",
       "      <td>This was for my 13 year old son as a beginner ...</td>\n",
       "      <td>Excellent choice for a beginner bass player</td>\n",
       "      <td>1420329600</td>\n",
       "      <td>NaN</td>\n",
       "      <td>0.0</td>\n",
       "    </tr>\n",
       "  </tbody>\n",
       "</table>\n",
       "</div>"
      ],
      "text/plain": [
       "   overall  vote  verified   reviewTime      reviewerID        asin  \\\n",
       "0      5.0   NaN      True  01 23, 2017   AO3S8ECI9UKNR  B000EELFTW   \n",
       "1      5.0  10.0      True  03 21, 2017  A19OPCXN2BSMNB  B003YOT65E   \n",
       "2      5.0   NaN      True  02 21, 2014  A19OG7CX70QMMX  B004Z8ORXO   \n",
       "3      5.0   NaN      True  11 30, 2014   AZILBE3JAU7ND  B004Z17008   \n",
       "4      5.0   NaN      True   01 4, 2015  A3BRP3OO1911O2  B000189YD0   \n",
       "\n",
       "                                            style     reviewerName  \\\n",
       "0                                             NaN  M &amp;amp; J P   \n",
       "1  {'Color:': ' Black', 'Style:': ' Guitar Only'}             Jenn   \n",
       "2                       {'Color:': ' Bright Red'}    Jody Cranford   \n",
       "3                               {'Size:': ' SN6'}             BDFU   \n",
       "4                     {'Color:': ' Liquid Black'}            Laura   \n",
       "\n",
       "                                          reviewText  \\\n",
       "0                            Works well/good quality   \n",
       "1  I don't expect much from a $35 guitar. I wante...   \n",
       "2  This is like a grown up drum kit, that's gone ...   \n",
       "3  Best tuner on the market. I own several of the...   \n",
       "4  This was for my 13 year old son as a beginner ...   \n",
       "\n",
       "                                             summary  unixReviewTime image  \\\n",
       "0                                          Recommend      1485129600   NaN   \n",
       "1                     Best value at this price point      1490054400   NaN   \n",
       "2  High quality drum kit for anyone!!  Well small...      1392940800   NaN   \n",
       "3                           Best tuner on the market      1417305600   NaN   \n",
       "4        Excellent choice for a beginner bass player      1420329600   NaN   \n",
       "\n",
       "   overall_split  \n",
       "0            0.0  \n",
       "1            0.0  \n",
       "2            0.0  \n",
       "3            0.0  \n",
       "4            0.0  "
      ]
     },
     "execution_count": 137,
     "metadata": {},
     "output_type": "execute_result"
    }
   ],
   "source": [
    "instrument_data.head()"
   ]
  },
  {
   "cell_type": "code",
   "execution_count": 138,
   "id": "b658343d",
   "metadata": {},
   "outputs": [
    {
     "data": {
      "text/plain": [
       "overall           float64\n",
       "vote               object\n",
       "verified             bool\n",
       "reviewTime         object\n",
       "reviewerID         object\n",
       "asin               object\n",
       "style              object\n",
       "reviewerName       object\n",
       "reviewText         object\n",
       "summary            object\n",
       "unixReviewTime      int64\n",
       "image              object\n",
       "overall_split     float64\n",
       "dtype: object"
      ]
     },
     "execution_count": 138,
     "metadata": {},
     "output_type": "execute_result"
    }
   ],
   "source": [
    "instrument_data.dtypes"
   ]
  },
  {
   "cell_type": "code",
   "execution_count": 139,
   "id": "b5c7611e",
   "metadata": {},
   "outputs": [],
   "source": [
    "instrument_data['date']=unix2time(instrument_data,'unixReviewTime')"
   ]
  },
  {
   "cell_type": "code",
   "execution_count": 140,
   "id": "bbf307d2",
   "metadata": {},
   "outputs": [],
   "source": [
    "instrument_data['date']=pd.to_datetime(instrument_data['date'])"
   ]
  },
  {
   "cell_type": "code",
   "execution_count": 141,
   "id": "8862e7d7",
   "metadata": {},
   "outputs": [],
   "source": [
    "instrument_data['overall']=instrument_data['overall'].astype('int')"
   ]
  },
  {
   "cell_type": "code",
   "execution_count": 142,
   "id": "d29f67b0",
   "metadata": {},
   "outputs": [
    {
     "data": {
      "text/plain": [
       "(240000, 14)"
      ]
     },
     "execution_count": 142,
     "metadata": {},
     "output_type": "execute_result"
    }
   ],
   "source": [
    "instrument_data.shape"
   ]
  },
  {
   "cell_type": "code",
   "execution_count": 143,
   "id": "303b2d82",
   "metadata": {},
   "outputs": [
    {
     "data": {
      "text/plain": [
       "overall                0\n",
       "vote              196251\n",
       "verified               0\n",
       "reviewTime             0\n",
       "reviewerID             0\n",
       "asin                   0\n",
       "style             136305\n",
       "reviewerName          37\n",
       "reviewText            86\n",
       "summary               52\n",
       "unixReviewTime         0\n",
       "image             234578\n",
       "overall_split          0\n",
       "date                   0\n",
       "dtype: int64"
      ]
     },
     "execution_count": 143,
     "metadata": {},
     "output_type": "execute_result"
    }
   ],
   "source": [
    "instrument_data.isnull().sum()"
   ]
  },
  {
   "cell_type": "code",
   "execution_count": 144,
   "id": "226022c4",
   "metadata": {},
   "outputs": [],
   "source": [
    "instrument_data.drop(['vote','image','reviewTime','style','reviewerName'],axis=1,inplace=True)\n",
    "instrument_data.dropna(inplace=True)"
   ]
  },
  {
   "cell_type": "code",
   "execution_count": 145,
   "id": "87ec319c",
   "metadata": {},
   "outputs": [
    {
     "data": {
      "text/plain": [
       "overall           0\n",
       "verified          0\n",
       "reviewerID        0\n",
       "asin              0\n",
       "reviewText        0\n",
       "summary           0\n",
       "unixReviewTime    0\n",
       "overall_split     0\n",
       "date              0\n",
       "dtype: int64"
      ]
     },
     "execution_count": 145,
     "metadata": {},
     "output_type": "execute_result"
    }
   ],
   "source": [
    "instrument_data.isnull().sum()"
   ]
  },
  {
   "cell_type": "code",
   "execution_count": 146,
   "id": "c658bf61",
   "metadata": {},
   "outputs": [
    {
     "data": {
      "text/plain": [
       "(239865, 9)"
      ]
     },
     "execution_count": 146,
     "metadata": {},
     "output_type": "execute_result"
    }
   ],
   "source": [
    "instrument_data.shape"
   ]
  },
  {
   "cell_type": "code",
   "execution_count": 147,
   "id": "2a604c5f",
   "metadata": {},
   "outputs": [],
   "source": [
    "instrument_data['text']=instrument_data['reviewText'].astype(str)+' ' + instrument_data['summary'].astype(str)"
   ]
  },
  {
   "cell_type": "code",
   "execution_count": 148,
   "id": "07ea95e1",
   "metadata": {},
   "outputs": [],
   "source": [
    "instrument_data.drop(columns=['reviewText','summary'],inplace=True)"
   ]
  },
  {
   "cell_type": "code",
   "execution_count": 149,
   "id": "1026c10d",
   "metadata": {},
   "outputs": [],
   "source": [
    "instrument_data['text'] = instrument_data['text'].apply(clean_text)"
   ]
  },
  {
   "cell_type": "code",
   "execution_count": 150,
   "id": "3414c379",
   "metadata": {},
   "outputs": [],
   "source": [
    "instrument_data['text_token'] = instrument_data['text'].apply(lambda x: ' '.join([lemmatizer.lemmatize(word) for word in x.split() if word not in stop]))"
   ]
  },
  {
   "cell_type": "code",
   "execution_count": 151,
   "id": "139912c8",
   "metadata": {},
   "outputs": [],
   "source": [
    "instrument_data['text_token']=instrument_data['text_token'].apply(word_tokenize)"
   ]
  },
  {
   "cell_type": "code",
   "execution_count": 152,
   "id": "f20bee34",
   "metadata": {},
   "outputs": [
    {
     "data": {
      "text/html": [
       "<div>\n",
       "<style scoped>\n",
       "    .dataframe tbody tr th:only-of-type {\n",
       "        vertical-align: middle;\n",
       "    }\n",
       "\n",
       "    .dataframe tbody tr th {\n",
       "        vertical-align: top;\n",
       "    }\n",
       "\n",
       "    .dataframe thead th {\n",
       "        text-align: right;\n",
       "    }\n",
       "</style>\n",
       "<table border=\"1\" class=\"dataframe\">\n",
       "  <thead>\n",
       "    <tr style=\"text-align: right;\">\n",
       "      <th></th>\n",
       "      <th>overall</th>\n",
       "      <th>verified</th>\n",
       "      <th>reviewerID</th>\n",
       "      <th>asin</th>\n",
       "      <th>unixReviewTime</th>\n",
       "      <th>overall_split</th>\n",
       "      <th>date</th>\n",
       "      <th>text</th>\n",
       "      <th>text_token</th>\n",
       "    </tr>\n",
       "  </thead>\n",
       "  <tbody>\n",
       "    <tr>\n",
       "      <th>0</th>\n",
       "      <td>5</td>\n",
       "      <td>True</td>\n",
       "      <td>AO3S8ECI9UKNR</td>\n",
       "      <td>B000EELFTW</td>\n",
       "      <td>1485129600</td>\n",
       "      <td>0.0</td>\n",
       "      <td>2017-01-23</td>\n",
       "      <td>works well good quality recommend</td>\n",
       "      <td>[work, well, good, quality, recommend]</td>\n",
       "    </tr>\n",
       "    <tr>\n",
       "      <th>1</th>\n",
       "      <td>5</td>\n",
       "      <td>True</td>\n",
       "      <td>A19OPCXN2BSMNB</td>\n",
       "      <td>B003YOT65E</td>\n",
       "      <td>1490054400</td>\n",
       "      <td>0.0</td>\n",
       "      <td>2017-03-21</td>\n",
       "      <td>i don t expect much from a guitar i wanted a c...</td>\n",
       "      <td>[expect, much, guitar, wanted, cheap, knock-ar...</td>\n",
       "    </tr>\n",
       "    <tr>\n",
       "      <th>2</th>\n",
       "      <td>5</td>\n",
       "      <td>True</td>\n",
       "      <td>A19OG7CX70QMMX</td>\n",
       "      <td>B004Z8ORXO</td>\n",
       "      <td>1392940800</td>\n",
       "      <td>0.0</td>\n",
       "      <td>2014-02-21</td>\n",
       "      <td>this is like a grown up drum kit that s gone t...</td>\n",
       "      <td>[like, grown, drum, kit, gone, thru, wonkavisi...</td>\n",
       "    </tr>\n",
       "    <tr>\n",
       "      <th>3</th>\n",
       "      <td>5</td>\n",
       "      <td>True</td>\n",
       "      <td>AZILBE3JAU7ND</td>\n",
       "      <td>B004Z17008</td>\n",
       "      <td>1417305600</td>\n",
       "      <td>0.0</td>\n",
       "      <td>2014-11-30</td>\n",
       "      <td>best tuner on the market i own several of thes...</td>\n",
       "      <td>[best, tuner, market, several, go, several, uk...</td>\n",
       "    </tr>\n",
       "    <tr>\n",
       "      <th>4</th>\n",
       "      <td>5</td>\n",
       "      <td>True</td>\n",
       "      <td>A3BRP3OO1911O2</td>\n",
       "      <td>B000189YD0</td>\n",
       "      <td>1420329600</td>\n",
       "      <td>0.0</td>\n",
       "      <td>2015-01-04</td>\n",
       "      <td>this was for my year old son as a beginner gui...</td>\n",
       "      <td>[year, old, son, beginner, guitar, gotten, adv...</td>\n",
       "    </tr>\n",
       "  </tbody>\n",
       "</table>\n",
       "</div>"
      ],
      "text/plain": [
       "   overall  verified      reviewerID        asin  unixReviewTime  \\\n",
       "0        5      True   AO3S8ECI9UKNR  B000EELFTW      1485129600   \n",
       "1        5      True  A19OPCXN2BSMNB  B003YOT65E      1490054400   \n",
       "2        5      True  A19OG7CX70QMMX  B004Z8ORXO      1392940800   \n",
       "3        5      True   AZILBE3JAU7ND  B004Z17008      1417305600   \n",
       "4        5      True  A3BRP3OO1911O2  B000189YD0      1420329600   \n",
       "\n",
       "   overall_split       date  \\\n",
       "0            0.0 2017-01-23   \n",
       "1            0.0 2017-03-21   \n",
       "2            0.0 2014-02-21   \n",
       "3            0.0 2014-11-30   \n",
       "4            0.0 2015-01-04   \n",
       "\n",
       "                                                text  \\\n",
       "0                  works well good quality recommend   \n",
       "1  i don t expect much from a guitar i wanted a c...   \n",
       "2  this is like a grown up drum kit that s gone t...   \n",
       "3  best tuner on the market i own several of thes...   \n",
       "4  this was for my year old son as a beginner gui...   \n",
       "\n",
       "                                          text_token  \n",
       "0             [work, well, good, quality, recommend]  \n",
       "1  [expect, much, guitar, wanted, cheap, knock-ar...  \n",
       "2  [like, grown, drum, kit, gone, thru, wonkavisi...  \n",
       "3  [best, tuner, market, several, go, several, uk...  \n",
       "4  [year, old, son, beginner, guitar, gotten, adv...  "
      ]
     },
     "execution_count": 152,
     "metadata": {},
     "output_type": "execute_result"
    }
   ],
   "source": [
    "instrument_data.head()"
   ]
  },
  {
   "cell_type": "raw",
   "id": "04a67439",
   "metadata": {},
   "source": [
    "i1=instrument_data.sample(n=40000,random_state=17,ignore_index=True)"
   ]
  },
  {
   "cell_type": "raw",
   "id": "90141980",
   "metadata": {},
   "source": [
    "corpus2 = list(i1['text'])"
   ]
  },
  {
   "cell_type": "raw",
   "id": "27c26757",
   "metadata": {},
   "source": [
    "instrument_embedding = embedder_model.encode(corpus2)"
   ]
  },
  {
   "cell_type": "raw",
   "id": "f3a04242",
   "metadata": {},
   "source": [
    "instrument_bert=pd.DataFrame(instrument_embedding)"
   ]
  },
  {
   "cell_type": "raw",
   "id": "786107a0",
   "metadata": {},
   "source": [
    "instrument_bert.to_csv('instrument_vectorized.csv',index=False)"
   ]
  },
  {
   "cell_type": "code",
   "execution_count": 63,
   "id": "c8ee67db",
   "metadata": {
    "collapsed": true
   },
   "outputs": [
    {
     "data": {
      "text/html": [
       "<div>\n",
       "<style scoped>\n",
       "    .dataframe tbody tr th:only-of-type {\n",
       "        vertical-align: middle;\n",
       "    }\n",
       "\n",
       "    .dataframe tbody tr th {\n",
       "        vertical-align: top;\n",
       "    }\n",
       "\n",
       "    .dataframe thead th {\n",
       "        text-align: right;\n",
       "    }\n",
       "</style>\n",
       "<table border=\"1\" class=\"dataframe\">\n",
       "  <thead>\n",
       "    <tr style=\"text-align: right;\">\n",
       "      <th></th>\n",
       "      <th>0</th>\n",
       "      <th>1</th>\n",
       "      <th>2</th>\n",
       "      <th>3</th>\n",
       "      <th>4</th>\n",
       "      <th>5</th>\n",
       "      <th>6</th>\n",
       "      <th>7</th>\n",
       "      <th>8</th>\n",
       "      <th>9</th>\n",
       "      <th>...</th>\n",
       "      <th>758</th>\n",
       "      <th>759</th>\n",
       "      <th>760</th>\n",
       "      <th>761</th>\n",
       "      <th>762</th>\n",
       "      <th>763</th>\n",
       "      <th>764</th>\n",
       "      <th>765</th>\n",
       "      <th>766</th>\n",
       "      <th>767</th>\n",
       "    </tr>\n",
       "  </thead>\n",
       "  <tbody>\n",
       "    <tr>\n",
       "      <th>0</th>\n",
       "      <td>0.034814</td>\n",
       "      <td>0.064835</td>\n",
       "      <td>-0.033559</td>\n",
       "      <td>-0.030410</td>\n",
       "      <td>0.020887</td>\n",
       "      <td>-0.010554</td>\n",
       "      <td>0.003480</td>\n",
       "      <td>0.057081</td>\n",
       "      <td>0.096977</td>\n",
       "      <td>-0.022064</td>\n",
       "      <td>...</td>\n",
       "      <td>0.056040</td>\n",
       "      <td>-0.004366</td>\n",
       "      <td>0.013781</td>\n",
       "      <td>0.041679</td>\n",
       "      <td>0.040939</td>\n",
       "      <td>-0.053549</td>\n",
       "      <td>0.035697</td>\n",
       "      <td>-0.070312</td>\n",
       "      <td>0.016141</td>\n",
       "      <td>0.002079</td>\n",
       "    </tr>\n",
       "    <tr>\n",
       "      <th>1</th>\n",
       "      <td>0.031321</td>\n",
       "      <td>-0.031812</td>\n",
       "      <td>0.014827</td>\n",
       "      <td>-0.005265</td>\n",
       "      <td>-0.028531</td>\n",
       "      <td>0.066086</td>\n",
       "      <td>0.000113</td>\n",
       "      <td>0.060869</td>\n",
       "      <td>0.035434</td>\n",
       "      <td>0.008755</td>\n",
       "      <td>...</td>\n",
       "      <td>0.011690</td>\n",
       "      <td>0.013695</td>\n",
       "      <td>-0.044613</td>\n",
       "      <td>0.001436</td>\n",
       "      <td>-0.059198</td>\n",
       "      <td>-0.003137</td>\n",
       "      <td>-0.003530</td>\n",
       "      <td>-0.038577</td>\n",
       "      <td>-0.048716</td>\n",
       "      <td>-0.017238</td>\n",
       "    </tr>\n",
       "    <tr>\n",
       "      <th>2</th>\n",
       "      <td>0.013715</td>\n",
       "      <td>0.068224</td>\n",
       "      <td>-0.021230</td>\n",
       "      <td>0.033625</td>\n",
       "      <td>-0.003060</td>\n",
       "      <td>0.009364</td>\n",
       "      <td>0.033159</td>\n",
       "      <td>-0.030048</td>\n",
       "      <td>0.036734</td>\n",
       "      <td>-0.012419</td>\n",
       "      <td>...</td>\n",
       "      <td>0.000962</td>\n",
       "      <td>-0.030951</td>\n",
       "      <td>-0.001161</td>\n",
       "      <td>0.089217</td>\n",
       "      <td>0.038845</td>\n",
       "      <td>-0.030696</td>\n",
       "      <td>-0.030912</td>\n",
       "      <td>-0.051987</td>\n",
       "      <td>-0.009133</td>\n",
       "      <td>0.005690</td>\n",
       "    </tr>\n",
       "    <tr>\n",
       "      <th>3</th>\n",
       "      <td>0.004411</td>\n",
       "      <td>0.038235</td>\n",
       "      <td>-0.027332</td>\n",
       "      <td>-0.002045</td>\n",
       "      <td>0.003019</td>\n",
       "      <td>-0.021669</td>\n",
       "      <td>-0.000427</td>\n",
       "      <td>0.009215</td>\n",
       "      <td>0.035430</td>\n",
       "      <td>-0.028581</td>\n",
       "      <td>...</td>\n",
       "      <td>0.001876</td>\n",
       "      <td>0.053622</td>\n",
       "      <td>-0.051027</td>\n",
       "      <td>-0.024830</td>\n",
       "      <td>-0.004884</td>\n",
       "      <td>-0.025674</td>\n",
       "      <td>0.073094</td>\n",
       "      <td>0.002586</td>\n",
       "      <td>0.010627</td>\n",
       "      <td>-0.061680</td>\n",
       "    </tr>\n",
       "    <tr>\n",
       "      <th>4</th>\n",
       "      <td>0.038393</td>\n",
       "      <td>0.013537</td>\n",
       "      <td>-0.002695</td>\n",
       "      <td>-0.085531</td>\n",
       "      <td>0.006316</td>\n",
       "      <td>0.006316</td>\n",
       "      <td>-0.005079</td>\n",
       "      <td>0.004417</td>\n",
       "      <td>0.065546</td>\n",
       "      <td>-0.010181</td>\n",
       "      <td>...</td>\n",
       "      <td>-0.051903</td>\n",
       "      <td>0.041929</td>\n",
       "      <td>-0.064161</td>\n",
       "      <td>0.033739</td>\n",
       "      <td>-0.014316</td>\n",
       "      <td>0.042210</td>\n",
       "      <td>0.074691</td>\n",
       "      <td>-0.036988</td>\n",
       "      <td>0.013815</td>\n",
       "      <td>-0.021834</td>\n",
       "    </tr>\n",
       "    <tr>\n",
       "      <th>...</th>\n",
       "      <td>...</td>\n",
       "      <td>...</td>\n",
       "      <td>...</td>\n",
       "      <td>...</td>\n",
       "      <td>...</td>\n",
       "      <td>...</td>\n",
       "      <td>...</td>\n",
       "      <td>...</td>\n",
       "      <td>...</td>\n",
       "      <td>...</td>\n",
       "      <td>...</td>\n",
       "      <td>...</td>\n",
       "      <td>...</td>\n",
       "      <td>...</td>\n",
       "      <td>...</td>\n",
       "      <td>...</td>\n",
       "      <td>...</td>\n",
       "      <td>...</td>\n",
       "      <td>...</td>\n",
       "      <td>...</td>\n",
       "      <td>...</td>\n",
       "    </tr>\n",
       "    <tr>\n",
       "      <th>39995</th>\n",
       "      <td>-0.003175</td>\n",
       "      <td>0.008541</td>\n",
       "      <td>0.012754</td>\n",
       "      <td>-0.078046</td>\n",
       "      <td>0.034444</td>\n",
       "      <td>-0.046241</td>\n",
       "      <td>-0.001078</td>\n",
       "      <td>0.013823</td>\n",
       "      <td>0.041080</td>\n",
       "      <td>0.004543</td>\n",
       "      <td>...</td>\n",
       "      <td>0.002137</td>\n",
       "      <td>0.043647</td>\n",
       "      <td>0.019105</td>\n",
       "      <td>0.068905</td>\n",
       "      <td>0.064226</td>\n",
       "      <td>-0.060153</td>\n",
       "      <td>-0.005863</td>\n",
       "      <td>-0.001481</td>\n",
       "      <td>0.013904</td>\n",
       "      <td>-0.005184</td>\n",
       "    </tr>\n",
       "    <tr>\n",
       "      <th>39996</th>\n",
       "      <td>-0.000918</td>\n",
       "      <td>0.010933</td>\n",
       "      <td>-0.006332</td>\n",
       "      <td>-0.031070</td>\n",
       "      <td>-0.029590</td>\n",
       "      <td>-0.013627</td>\n",
       "      <td>-0.009750</td>\n",
       "      <td>-0.005595</td>\n",
       "      <td>0.047023</td>\n",
       "      <td>0.010987</td>\n",
       "      <td>...</td>\n",
       "      <td>0.039936</td>\n",
       "      <td>0.022022</td>\n",
       "      <td>-0.005173</td>\n",
       "      <td>0.025662</td>\n",
       "      <td>-0.012191</td>\n",
       "      <td>-0.023061</td>\n",
       "      <td>-0.077481</td>\n",
       "      <td>-0.034152</td>\n",
       "      <td>-0.033166</td>\n",
       "      <td>-0.022671</td>\n",
       "    </tr>\n",
       "    <tr>\n",
       "      <th>39997</th>\n",
       "      <td>-0.002520</td>\n",
       "      <td>0.035724</td>\n",
       "      <td>-0.009397</td>\n",
       "      <td>-0.003433</td>\n",
       "      <td>0.024485</td>\n",
       "      <td>0.045265</td>\n",
       "      <td>-0.017147</td>\n",
       "      <td>0.014443</td>\n",
       "      <td>0.064398</td>\n",
       "      <td>-0.006683</td>\n",
       "      <td>...</td>\n",
       "      <td>0.100031</td>\n",
       "      <td>0.024986</td>\n",
       "      <td>-0.047099</td>\n",
       "      <td>0.088739</td>\n",
       "      <td>0.026823</td>\n",
       "      <td>-0.034279</td>\n",
       "      <td>0.045044</td>\n",
       "      <td>-0.057575</td>\n",
       "      <td>0.030394</td>\n",
       "      <td>0.005528</td>\n",
       "    </tr>\n",
       "    <tr>\n",
       "      <th>39998</th>\n",
       "      <td>-0.021202</td>\n",
       "      <td>-0.007869</td>\n",
       "      <td>-0.021757</td>\n",
       "      <td>-0.035217</td>\n",
       "      <td>0.063170</td>\n",
       "      <td>-0.053930</td>\n",
       "      <td>-0.003447</td>\n",
       "      <td>-0.005448</td>\n",
       "      <td>0.042984</td>\n",
       "      <td>-0.022741</td>\n",
       "      <td>...</td>\n",
       "      <td>0.003773</td>\n",
       "      <td>0.002308</td>\n",
       "      <td>-0.068476</td>\n",
       "      <td>0.026154</td>\n",
       "      <td>0.032643</td>\n",
       "      <td>-0.007690</td>\n",
       "      <td>0.050376</td>\n",
       "      <td>-0.034006</td>\n",
       "      <td>0.053289</td>\n",
       "      <td>-0.041376</td>\n",
       "    </tr>\n",
       "    <tr>\n",
       "      <th>39999</th>\n",
       "      <td>-0.039388</td>\n",
       "      <td>0.037815</td>\n",
       "      <td>-0.031815</td>\n",
       "      <td>-0.074108</td>\n",
       "      <td>-0.037535</td>\n",
       "      <td>0.041953</td>\n",
       "      <td>-0.019230</td>\n",
       "      <td>-0.010764</td>\n",
       "      <td>0.013831</td>\n",
       "      <td>0.014476</td>\n",
       "      <td>...</td>\n",
       "      <td>0.020733</td>\n",
       "      <td>0.004734</td>\n",
       "      <td>-0.012039</td>\n",
       "      <td>0.061435</td>\n",
       "      <td>0.034384</td>\n",
       "      <td>-0.007525</td>\n",
       "      <td>0.008556</td>\n",
       "      <td>0.016060</td>\n",
       "      <td>-0.027734</td>\n",
       "      <td>-0.019854</td>\n",
       "    </tr>\n",
       "  </tbody>\n",
       "</table>\n",
       "<p>40000 rows × 768 columns</p>\n",
       "</div>"
      ],
      "text/plain": [
       "              0         1         2         3         4         5         6  \\\n",
       "0      0.034814  0.064835 -0.033559 -0.030410  0.020887 -0.010554  0.003480   \n",
       "1      0.031321 -0.031812  0.014827 -0.005265 -0.028531  0.066086  0.000113   \n",
       "2      0.013715  0.068224 -0.021230  0.033625 -0.003060  0.009364  0.033159   \n",
       "3      0.004411  0.038235 -0.027332 -0.002045  0.003019 -0.021669 -0.000427   \n",
       "4      0.038393  0.013537 -0.002695 -0.085531  0.006316  0.006316 -0.005079   \n",
       "...         ...       ...       ...       ...       ...       ...       ...   \n",
       "39995 -0.003175  0.008541  0.012754 -0.078046  0.034444 -0.046241 -0.001078   \n",
       "39996 -0.000918  0.010933 -0.006332 -0.031070 -0.029590 -0.013627 -0.009750   \n",
       "39997 -0.002520  0.035724 -0.009397 -0.003433  0.024485  0.045265 -0.017147   \n",
       "39998 -0.021202 -0.007869 -0.021757 -0.035217  0.063170 -0.053930 -0.003447   \n",
       "39999 -0.039388  0.037815 -0.031815 -0.074108 -0.037535  0.041953 -0.019230   \n",
       "\n",
       "              7         8         9  ...       758       759       760  \\\n",
       "0      0.057081  0.096977 -0.022064  ...  0.056040 -0.004366  0.013781   \n",
       "1      0.060869  0.035434  0.008755  ...  0.011690  0.013695 -0.044613   \n",
       "2     -0.030048  0.036734 -0.012419  ...  0.000962 -0.030951 -0.001161   \n",
       "3      0.009215  0.035430 -0.028581  ...  0.001876  0.053622 -0.051027   \n",
       "4      0.004417  0.065546 -0.010181  ... -0.051903  0.041929 -0.064161   \n",
       "...         ...       ...       ...  ...       ...       ...       ...   \n",
       "39995  0.013823  0.041080  0.004543  ...  0.002137  0.043647  0.019105   \n",
       "39996 -0.005595  0.047023  0.010987  ...  0.039936  0.022022 -0.005173   \n",
       "39997  0.014443  0.064398 -0.006683  ...  0.100031  0.024986 -0.047099   \n",
       "39998 -0.005448  0.042984 -0.022741  ...  0.003773  0.002308 -0.068476   \n",
       "39999 -0.010764  0.013831  0.014476  ...  0.020733  0.004734 -0.012039   \n",
       "\n",
       "            761       762       763       764       765       766       767  \n",
       "0      0.041679  0.040939 -0.053549  0.035697 -0.070312  0.016141  0.002079  \n",
       "1      0.001436 -0.059198 -0.003137 -0.003530 -0.038577 -0.048716 -0.017238  \n",
       "2      0.089217  0.038845 -0.030696 -0.030912 -0.051987 -0.009133  0.005690  \n",
       "3     -0.024830 -0.004884 -0.025674  0.073094  0.002586  0.010627 -0.061680  \n",
       "4      0.033739 -0.014316  0.042210  0.074691 -0.036988  0.013815 -0.021834  \n",
       "...         ...       ...       ...       ...       ...       ...       ...  \n",
       "39995  0.068905  0.064226 -0.060153 -0.005863 -0.001481  0.013904 -0.005184  \n",
       "39996  0.025662 -0.012191 -0.023061 -0.077481 -0.034152 -0.033166 -0.022671  \n",
       "39997  0.088739  0.026823 -0.034279  0.045044 -0.057575  0.030394  0.005528  \n",
       "39998  0.026154  0.032643 -0.007690  0.050376 -0.034006  0.053289 -0.041376  \n",
       "39999  0.061435  0.034384 -0.007525  0.008556  0.016060 -0.027734 -0.019854  \n",
       "\n",
       "[40000 rows x 768 columns]"
      ]
     },
     "execution_count": 63,
     "metadata": {},
     "output_type": "execute_result"
    }
   ],
   "source": [
    "pd.read_csv('instrument_vectorized.csv')"
   ]
  },
  {
   "cell_type": "markdown",
   "id": "366fa250",
   "metadata": {},
   "source": [
    "## Sentiment Analysis"
   ]
  },
  {
   "cell_type": "code",
   "execution_count": 64,
   "id": "1662c4f7",
   "metadata": {},
   "outputs": [],
   "source": [
    "def vader_sentiment_analyzer(df):\n",
    "    d=time.time()\n",
    "    sentiments = SentimentIntensityAnalyzer()\n",
    "    df[\"positive\"] = [sentiments.polarity_scores(i)[\"pos\"] for i in df[\"text\"]]\n",
    "    df[\"negative\"] = [sentiments.polarity_scores(i)[\"neg\"] for i in df[\"text\"]]\n",
    "    df[\"neutral\"] = [sentiments.polarity_scores(i)[\"neu\"] for i in df[\"text\"]]\n",
    "    df[\"compound\"] = [sentiments.polarity_scores(i)[\"compound\"] for i in df[\"text\"]]\n",
    "    df['vader_sentiment']=range(len(df))\n",
    "    df['vader_sentiment'].loc[df['compound'] >=0.5]='Positive'\n",
    "    df['vader_sentiment'].loc[(df['compound'] >= 0) & (df['compound'] < 0.5)]='Neutral'\n",
    "    df['vader_sentiment'].loc[(df['compound'] < 0) & (df['compound'] > -0.5)]='Conflict'\n",
    "    df['vader_sentiment'].loc[df['compound'] <=-0.5]='Negative'\n",
    "    e=time.time()\n",
    "    f=d-e\n",
    "    return(df,f)"
   ]
  },
  {
   "cell_type": "code",
   "execution_count": 65,
   "id": "63ef110a",
   "metadata": {},
   "outputs": [],
   "source": [
    "music_data,vader1time=vader_sentiment_analyzer(music_data)"
   ]
  },
  {
   "cell_type": "code",
   "execution_count": 66,
   "id": "c3850d9c",
   "metadata": {},
   "outputs": [
    {
     "data": {
      "text/html": [
       "<div>\n",
       "<style scoped>\n",
       "    .dataframe tbody tr th:only-of-type {\n",
       "        vertical-align: middle;\n",
       "    }\n",
       "\n",
       "    .dataframe tbody tr th {\n",
       "        vertical-align: top;\n",
       "    }\n",
       "\n",
       "    .dataframe thead th {\n",
       "        text-align: right;\n",
       "    }\n",
       "</style>\n",
       "<table border=\"1\" class=\"dataframe\">\n",
       "  <thead>\n",
       "    <tr style=\"text-align: right;\">\n",
       "      <th></th>\n",
       "      <th>overall</th>\n",
       "      <th>asin</th>\n",
       "      <th>unixReviewTime</th>\n",
       "      <th>overall_split</th>\n",
       "      <th>date</th>\n",
       "      <th>text</th>\n",
       "      <th>text_token</th>\n",
       "      <th>positive</th>\n",
       "      <th>negative</th>\n",
       "      <th>neutral</th>\n",
       "      <th>compound</th>\n",
       "      <th>vader_sentiment</th>\n",
       "    </tr>\n",
       "  </thead>\n",
       "  <tbody>\n",
       "    <tr>\n",
       "      <th>0</th>\n",
       "      <td>5</td>\n",
       "      <td>B000W18IN8</td>\n",
       "      <td>1363219200</td>\n",
       "      <td>0.0</td>\n",
       "      <td>2013-03-14</td>\n",
       "      <td>this song just makes me happy i love the beat ...</td>\n",
       "      <td>[song, make, happy, love, beat, lyric, bad, mo...</td>\n",
       "      <td>0.338</td>\n",
       "      <td>0.056</td>\n",
       "      <td>0.606</td>\n",
       "      <td>0.9565</td>\n",
       "      <td>Positive</td>\n",
       "    </tr>\n",
       "    <tr>\n",
       "      <th>1</th>\n",
       "      <td>4</td>\n",
       "      <td>B00136JA8S</td>\n",
       "      <td>1405296000</td>\n",
       "      <td>0.0</td>\n",
       "      <td>2014-07-14</td>\n",
       "      <td>love this song it s catchy and you can dance t...</td>\n",
       "      <td>[love, song, catchy, dance, four, star]</td>\n",
       "      <td>0.259</td>\n",
       "      <td>0.000</td>\n",
       "      <td>0.741</td>\n",
       "      <td>0.6369</td>\n",
       "      <td>Positive</td>\n",
       "    </tr>\n",
       "    <tr>\n",
       "      <th>2</th>\n",
       "      <td>5</td>\n",
       "      <td>B003A4QRU0</td>\n",
       "      <td>1371945600</td>\n",
       "      <td>0.0</td>\n",
       "      <td>2013-06-23</td>\n",
       "      <td>i was so happy to learn that i could download ...</td>\n",
       "      <td>[happy, learn, could, download, music, song, l...</td>\n",
       "      <td>0.497</td>\n",
       "      <td>0.000</td>\n",
       "      <td>0.503</td>\n",
       "      <td>0.9501</td>\n",
       "      <td>Positive</td>\n",
       "    </tr>\n",
       "    <tr>\n",
       "      <th>3</th>\n",
       "      <td>5</td>\n",
       "      <td>B000QZX5B0</td>\n",
       "      <td>1112400000</td>\n",
       "      <td>0.0</td>\n",
       "      <td>2005-04-02</td>\n",
       "      <td>this album in my opinion kicks just as much as...</td>\n",
       "      <td>[album, opinion, kick, much, as, every, one, s...</td>\n",
       "      <td>0.201</td>\n",
       "      <td>0.111</td>\n",
       "      <td>0.688</td>\n",
       "      <td>0.6582</td>\n",
       "      <td>Positive</td>\n",
       "    </tr>\n",
       "    <tr>\n",
       "      <th>4</th>\n",
       "      <td>5</td>\n",
       "      <td>B0048IMZTE</td>\n",
       "      <td>1420675200</td>\n",
       "      <td>0.0</td>\n",
       "      <td>2015-01-08</td>\n",
       "      <td>sweet song five stars</td>\n",
       "      <td>[sweet, song, five, star]</td>\n",
       "      <td>0.500</td>\n",
       "      <td>0.000</td>\n",
       "      <td>0.500</td>\n",
       "      <td>0.4588</td>\n",
       "      <td>Neutral</td>\n",
       "    </tr>\n",
       "  </tbody>\n",
       "</table>\n",
       "</div>"
      ],
      "text/plain": [
       "   overall        asin  unixReviewTime  overall_split       date  \\\n",
       "0        5  B000W18IN8      1363219200            0.0 2013-03-14   \n",
       "1        4  B00136JA8S      1405296000            0.0 2014-07-14   \n",
       "2        5  B003A4QRU0      1371945600            0.0 2013-06-23   \n",
       "3        5  B000QZX5B0      1112400000            0.0 2005-04-02   \n",
       "4        5  B0048IMZTE      1420675200            0.0 2015-01-08   \n",
       "\n",
       "                                                text  \\\n",
       "0  this song just makes me happy i love the beat ...   \n",
       "1  love this song it s catchy and you can dance t...   \n",
       "2  i was so happy to learn that i could download ...   \n",
       "3  this album in my opinion kicks just as much as...   \n",
       "4                              sweet song five stars   \n",
       "\n",
       "                                          text_token  positive  negative  \\\n",
       "0  [song, make, happy, love, beat, lyric, bad, mo...     0.338     0.056   \n",
       "1            [love, song, catchy, dance, four, star]     0.259     0.000   \n",
       "2  [happy, learn, could, download, music, song, l...     0.497     0.000   \n",
       "3  [album, opinion, kick, much, as, every, one, s...     0.201     0.111   \n",
       "4                          [sweet, song, five, star]     0.500     0.000   \n",
       "\n",
       "   neutral  compound vader_sentiment  \n",
       "0    0.606    0.9565        Positive  \n",
       "1    0.741    0.6369        Positive  \n",
       "2    0.503    0.9501        Positive  \n",
       "3    0.688    0.6582        Positive  \n",
       "4    0.500    0.4588         Neutral  "
      ]
     },
     "execution_count": 66,
     "metadata": {},
     "output_type": "execute_result"
    }
   ],
   "source": [
    "music_data.head()"
   ]
  },
  {
   "cell_type": "code",
   "execution_count": 67,
   "id": "b46a8dd2",
   "metadata": {},
   "outputs": [
    {
     "data": {
      "text/plain": [
       "overall                     int32\n",
       "asin                       object\n",
       "unixReviewTime              int64\n",
       "overall_split             float64\n",
       "date               datetime64[ns]\n",
       "text                       object\n",
       "text_token                 object\n",
       "positive                  float64\n",
       "negative                  float64\n",
       "neutral                   float64\n",
       "compound                  float64\n",
       "vader_sentiment            object\n",
       "dtype: object"
      ]
     },
     "execution_count": 67,
     "metadata": {},
     "output_type": "execute_result"
    }
   ],
   "source": [
    "music_data.dtypes"
   ]
  },
  {
   "cell_type": "code",
   "execution_count": 68,
   "id": "e40deb46",
   "metadata": {},
   "outputs": [
    {
     "data": {
      "text/plain": [
       "-449.3929753303528"
      ]
     },
     "execution_count": 68,
     "metadata": {},
     "output_type": "execute_result"
    }
   ],
   "source": [
    "vader1time"
   ]
  },
  {
   "cell_type": "code",
   "execution_count": 69,
   "id": "5d036714",
   "metadata": {},
   "outputs": [],
   "source": [
    "instrument_data,vader2time=vader_sentiment_analyzer(instrument_data)"
   ]
  },
  {
   "cell_type": "code",
   "execution_count": 70,
   "id": "9ba6ff9d",
   "metadata": {},
   "outputs": [
    {
     "data": {
      "text/html": [
       "<div>\n",
       "<style scoped>\n",
       "    .dataframe tbody tr th:only-of-type {\n",
       "        vertical-align: middle;\n",
       "    }\n",
       "\n",
       "    .dataframe tbody tr th {\n",
       "        vertical-align: top;\n",
       "    }\n",
       "\n",
       "    .dataframe thead th {\n",
       "        text-align: right;\n",
       "    }\n",
       "</style>\n",
       "<table border=\"1\" class=\"dataframe\">\n",
       "  <thead>\n",
       "    <tr style=\"text-align: right;\">\n",
       "      <th></th>\n",
       "      <th>overall</th>\n",
       "      <th>asin</th>\n",
       "      <th>unixReviewTime</th>\n",
       "      <th>overall_split</th>\n",
       "      <th>date</th>\n",
       "      <th>text</th>\n",
       "      <th>text_token</th>\n",
       "      <th>positive</th>\n",
       "      <th>negative</th>\n",
       "      <th>neutral</th>\n",
       "      <th>compound</th>\n",
       "      <th>vader_sentiment</th>\n",
       "    </tr>\n",
       "  </thead>\n",
       "  <tbody>\n",
       "    <tr>\n",
       "      <th>0</th>\n",
       "      <td>5</td>\n",
       "      <td>B000EELFTW</td>\n",
       "      <td>1485129600</td>\n",
       "      <td>0.0</td>\n",
       "      <td>2017-01-23</td>\n",
       "      <td>works well good quality recommend</td>\n",
       "      <td>[work, well, good, quality, recommend]</td>\n",
       "      <td>0.789</td>\n",
       "      <td>0.000</td>\n",
       "      <td>0.211</td>\n",
       "      <td>0.7579</td>\n",
       "      <td>Positive</td>\n",
       "    </tr>\n",
       "    <tr>\n",
       "      <th>1</th>\n",
       "      <td>5</td>\n",
       "      <td>B003YOT65E</td>\n",
       "      <td>1490054400</td>\n",
       "      <td>0.0</td>\n",
       "      <td>2017-03-21</td>\n",
       "      <td>i don t expect much from a guitar i wanted a c...</td>\n",
       "      <td>[expect, much, guitar, wanted, cheap, knock-ar...</td>\n",
       "      <td>0.250</td>\n",
       "      <td>0.045</td>\n",
       "      <td>0.704</td>\n",
       "      <td>0.9929</td>\n",
       "      <td>Positive</td>\n",
       "    </tr>\n",
       "    <tr>\n",
       "      <th>2</th>\n",
       "      <td>5</td>\n",
       "      <td>B004Z8ORXO</td>\n",
       "      <td>1392940800</td>\n",
       "      <td>0.0</td>\n",
       "      <td>2014-02-21</td>\n",
       "      <td>this is like a grown up drum kit that s gone t...</td>\n",
       "      <td>[like, grown, drum, kit, gone, thru, wonkavisi...</td>\n",
       "      <td>0.248</td>\n",
       "      <td>0.000</td>\n",
       "      <td>0.752</td>\n",
       "      <td>0.9042</td>\n",
       "      <td>Positive</td>\n",
       "    </tr>\n",
       "    <tr>\n",
       "      <th>3</th>\n",
       "      <td>5</td>\n",
       "      <td>B004Z17008</td>\n",
       "      <td>1417305600</td>\n",
       "      <td>0.0</td>\n",
       "      <td>2014-11-30</td>\n",
       "      <td>best tuner on the market i own several of thes...</td>\n",
       "      <td>[best, tuner, market, several, go, several, uk...</td>\n",
       "      <td>0.331</td>\n",
       "      <td>0.000</td>\n",
       "      <td>0.669</td>\n",
       "      <td>0.8555</td>\n",
       "      <td>Positive</td>\n",
       "    </tr>\n",
       "    <tr>\n",
       "      <th>4</th>\n",
       "      <td>5</td>\n",
       "      <td>B000189YD0</td>\n",
       "      <td>1420329600</td>\n",
       "      <td>0.0</td>\n",
       "      <td>2015-01-04</td>\n",
       "      <td>this was for my year old son as a beginner gui...</td>\n",
       "      <td>[year, old, son, beginner, guitar, gotten, adv...</td>\n",
       "      <td>0.135</td>\n",
       "      <td>0.036</td>\n",
       "      <td>0.830</td>\n",
       "      <td>0.9427</td>\n",
       "      <td>Positive</td>\n",
       "    </tr>\n",
       "    <tr>\n",
       "      <th>...</th>\n",
       "      <td>...</td>\n",
       "      <td>...</td>\n",
       "      <td>...</td>\n",
       "      <td>...</td>\n",
       "      <td>...</td>\n",
       "      <td>...</td>\n",
       "      <td>...</td>\n",
       "      <td>...</td>\n",
       "      <td>...</td>\n",
       "      <td>...</td>\n",
       "      <td>...</td>\n",
       "      <td>...</td>\n",
       "    </tr>\n",
       "    <tr>\n",
       "      <th>239995</th>\n",
       "      <td>2</td>\n",
       "      <td>B00CBPAPZW</td>\n",
       "      <td>1473638400</td>\n",
       "      <td>1.0</td>\n",
       "      <td>2016-09-12</td>\n",
       "      <td>unstable flips over easily lens doesn t rotate...</td>\n",
       "      <td>[unstable, flip, easily, lens, rotate, look, l...</td>\n",
       "      <td>0.255</td>\n",
       "      <td>0.193</td>\n",
       "      <td>0.552</td>\n",
       "      <td>0.1181</td>\n",
       "      <td>Neutral</td>\n",
       "    </tr>\n",
       "    <tr>\n",
       "      <th>239996</th>\n",
       "      <td>1</td>\n",
       "      <td>B00GEV6P8U</td>\n",
       "      <td>1451606400</td>\n",
       "      <td>1.0</td>\n",
       "      <td>2016-01-01</td>\n",
       "      <td>very very very disappointed with this product ...</td>\n",
       "      <td>[disappointed, product, first, two, purchased,...</td>\n",
       "      <td>0.074</td>\n",
       "      <td>0.224</td>\n",
       "      <td>0.702</td>\n",
       "      <td>-0.9851</td>\n",
       "      <td>Negative</td>\n",
       "    </tr>\n",
       "    <tr>\n",
       "      <th>239997</th>\n",
       "      <td>2</td>\n",
       "      <td>B0002OSBDM</td>\n",
       "      <td>1365984000</td>\n",
       "      <td>1.0</td>\n",
       "      <td>2013-04-15</td>\n",
       "      <td>i purchased this because i thought it would ma...</td>\n",
       "      <td>[purchased, thought, would, make, transition, ...</td>\n",
       "      <td>0.096</td>\n",
       "      <td>0.015</td>\n",
       "      <td>0.889</td>\n",
       "      <td>0.8990</td>\n",
       "      <td>Positive</td>\n",
       "    </tr>\n",
       "    <tr>\n",
       "      <th>239998</th>\n",
       "      <td>2</td>\n",
       "      <td>B005HJAH2A</td>\n",
       "      <td>1435363200</td>\n",
       "      <td>1.0</td>\n",
       "      <td>2015-06-27</td>\n",
       "      <td>i have now had three of these exact same carts...</td>\n",
       "      <td>[three, exact, cart, first, one, lasted, moder...</td>\n",
       "      <td>0.070</td>\n",
       "      <td>0.056</td>\n",
       "      <td>0.874</td>\n",
       "      <td>0.4366</td>\n",
       "      <td>Neutral</td>\n",
       "    </tr>\n",
       "    <tr>\n",
       "      <th>239999</th>\n",
       "      <td>1</td>\n",
       "      <td>B0055XDCBQ</td>\n",
       "      <td>1445904000</td>\n",
       "      <td>1.0</td>\n",
       "      <td>2015-10-27</td>\n",
       "      <td>so disappointed got this for my son s birthday...</td>\n",
       "      <td>[disappointed, got, son, birthday, went, assem...</td>\n",
       "      <td>0.000</td>\n",
       "      <td>0.221</td>\n",
       "      <td>0.779</td>\n",
       "      <td>-0.8631</td>\n",
       "      <td>Negative</td>\n",
       "    </tr>\n",
       "  </tbody>\n",
       "</table>\n",
       "<p>239865 rows × 12 columns</p>\n",
       "</div>"
      ],
      "text/plain": [
       "        overall        asin  unixReviewTime  overall_split       date  \\\n",
       "0             5  B000EELFTW      1485129600            0.0 2017-01-23   \n",
       "1             5  B003YOT65E      1490054400            0.0 2017-03-21   \n",
       "2             5  B004Z8ORXO      1392940800            0.0 2014-02-21   \n",
       "3             5  B004Z17008      1417305600            0.0 2014-11-30   \n",
       "4             5  B000189YD0      1420329600            0.0 2015-01-04   \n",
       "...         ...         ...             ...            ...        ...   \n",
       "239995        2  B00CBPAPZW      1473638400            1.0 2016-09-12   \n",
       "239996        1  B00GEV6P8U      1451606400            1.0 2016-01-01   \n",
       "239997        2  B0002OSBDM      1365984000            1.0 2013-04-15   \n",
       "239998        2  B005HJAH2A      1435363200            1.0 2015-06-27   \n",
       "239999        1  B0055XDCBQ      1445904000            1.0 2015-10-27   \n",
       "\n",
       "                                                     text  \\\n",
       "0                       works well good quality recommend   \n",
       "1       i don t expect much from a guitar i wanted a c...   \n",
       "2       this is like a grown up drum kit that s gone t...   \n",
       "3       best tuner on the market i own several of thes...   \n",
       "4       this was for my year old son as a beginner gui...   \n",
       "...                                                   ...   \n",
       "239995  unstable flips over easily lens doesn t rotate...   \n",
       "239996  very very very disappointed with this product ...   \n",
       "239997  i purchased this because i thought it would ma...   \n",
       "239998  i have now had three of these exact same carts...   \n",
       "239999  so disappointed got this for my son s birthday...   \n",
       "\n",
       "                                               text_token  positive  negative  \\\n",
       "0                  [work, well, good, quality, recommend]     0.789     0.000   \n",
       "1       [expect, much, guitar, wanted, cheap, knock-ar...     0.250     0.045   \n",
       "2       [like, grown, drum, kit, gone, thru, wonkavisi...     0.248     0.000   \n",
       "3       [best, tuner, market, several, go, several, uk...     0.331     0.000   \n",
       "4       [year, old, son, beginner, guitar, gotten, adv...     0.135     0.036   \n",
       "...                                                   ...       ...       ...   \n",
       "239995  [unstable, flip, easily, lens, rotate, look, l...     0.255     0.193   \n",
       "239996  [disappointed, product, first, two, purchased,...     0.074     0.224   \n",
       "239997  [purchased, thought, would, make, transition, ...     0.096     0.015   \n",
       "239998  [three, exact, cart, first, one, lasted, moder...     0.070     0.056   \n",
       "239999  [disappointed, got, son, birthday, went, assem...     0.000     0.221   \n",
       "\n",
       "        neutral  compound vader_sentiment  \n",
       "0         0.211    0.7579        Positive  \n",
       "1         0.704    0.9929        Positive  \n",
       "2         0.752    0.9042        Positive  \n",
       "3         0.669    0.8555        Positive  \n",
       "4         0.830    0.9427        Positive  \n",
       "...         ...       ...             ...  \n",
       "239995    0.552    0.1181         Neutral  \n",
       "239996    0.702   -0.9851        Negative  \n",
       "239997    0.889    0.8990        Positive  \n",
       "239998    0.874    0.4366         Neutral  \n",
       "239999    0.779   -0.8631        Negative  \n",
       "\n",
       "[239865 rows x 12 columns]"
      ]
     },
     "execution_count": 70,
     "metadata": {},
     "output_type": "execute_result"
    }
   ],
   "source": [
    "instrument_data"
   ]
  },
  {
   "cell_type": "code",
   "execution_count": 71,
   "id": "c18c5c45",
   "metadata": {},
   "outputs": [
    {
     "data": {
      "text/plain": [
       "-497.9858446121216"
      ]
     },
     "execution_count": 71,
     "metadata": {},
     "output_type": "execute_result"
    }
   ],
   "source": [
    "vader2time"
   ]
  },
  {
   "cell_type": "code",
   "execution_count": 157,
   "id": "1d6068cd",
   "metadata": {},
   "outputs": [],
   "source": [
    "m1,vader3time=vader_sentiment_analyzer(m1)\n",
    "i1,vader4time=vader_sentiment_analyzer(i1)"
   ]
  },
  {
   "cell_type": "code",
   "execution_count": 92,
   "id": "82911890",
   "metadata": {},
   "outputs": [
    {
     "data": {
      "text/plain": [
       "0.899"
      ]
     },
     "execution_count": 92,
     "metadata": {},
     "output_type": "execute_result"
    }
   ],
   "source": [
    "sentiments = SentimentIntensityAnalyzer()\n",
    "sent='''this guitar is good for a year old it s a beautiful guitar but a \n",
    "small size guitar the scale length of an average guitar should be around and this only has a scale length that \n",
    "makes a difference if you are looking to fit a year old other than the scale length i would say this is a good guitar \n",
    "so if you are looking for a young child and want a step up from a toy then this would be your choice small size guitar'''\n",
    "sentiments.polarity_scores(sent)[\"compound\"] "
   ]
  },
  {
   "cell_type": "markdown",
   "id": "4ef923ff",
   "metadata": {},
   "source": [
    "On the above review the person is not fully satisfied with the product. He has mentioned that the guitar size is small and it won't suite adults but sentiment intensity analyzer has given a positive sentiment i.e score is greater than 0.5. Thereby we can implement this on bert."
   ]
  },
  {
   "cell_type": "code",
   "execution_count": 74,
   "id": "d36a54f9",
   "metadata": {},
   "outputs": [
    {
     "data": {
      "text/plain": [
       "device(type='cpu')"
      ]
     },
     "execution_count": 74,
     "metadata": {},
     "output_type": "execute_result"
    }
   ],
   "source": [
    "torch.device('cuda' if torch.cuda.is_available() else 'cpu')"
   ]
  },
  {
   "cell_type": "code",
   "execution_count": 75,
   "id": "b666b059",
   "metadata": {},
   "outputs": [],
   "source": [
    "def bert_sentiment_analyzer(text):\n",
    "    d=time.time()\n",
    "    analyzer = pipeline('sentiment-analysis', model=\"nlptown/bert-base-multilingual-uncased-sentiment\")\n",
    "    bert=analyzer(text,truncation=True)\n",
    "    lst=[]\n",
    "    for i in bert:\n",
    "        lst.append(i['label'])\n",
    "    e=time.time()\n",
    "    f=e-d\n",
    "    return(lst,f)"
   ]
  },
  {
   "cell_type": "code",
   "execution_count": 93,
   "id": "f2aac19c",
   "metadata": {},
   "outputs": [],
   "source": [
    "sentiment,bert_time=bert_sentiment_analyzer('''this guitar is good for a year old it s a beautiful guitar but a \n",
    "small size guitar the scale length of an average guitar should be around and this only has a scale length that \n",
    "makes a difference if you are looking to fit a year old other than the scale length i would say this is a good guitar \n",
    "so if you are looking for a young child and want a step up from a toy then this would be your choice small size guitar''')"
   ]
  },
  {
   "cell_type": "code",
   "execution_count": 94,
   "id": "9e146218",
   "metadata": {},
   "outputs": [
    {
     "data": {
      "text/plain": [
       "['3 stars']"
      ]
     },
     "execution_count": 94,
     "metadata": {},
     "output_type": "execute_result"
    }
   ],
   "source": [
    "sentiment"
   ]
  },
  {
   "cell_type": "code",
   "execution_count": 95,
   "id": "067f2dbf",
   "metadata": {},
   "outputs": [
    {
     "data": {
      "text/plain": [
       "3.9807558059692383"
      ]
     },
     "execution_count": 95,
     "metadata": {},
     "output_type": "execute_result"
    }
   ],
   "source": [
    "bert_time"
   ]
  },
  {
   "cell_type": "markdown",
   "id": "c487278b",
   "metadata": {},
   "source": [
    "In bert it has given 3 stars which means this review is not positive but it's an average. We can see the difference between the sentiment intensity analyzer and bert through this comparison but due to large computation time it is hard to implement bert without GPU ot TPU. So we are considering the sentiment's given by sentiment intensity analyzer."
   ]
  },
  {
   "cell_type": "raw",
   "id": "f93bd4d4",
   "metadata": {},
   "source": [
    "music_data['bert_sentiment'],bert_time=music_data['text'].apply(lambda x: bert_sentiment_analyzer(x))"
   ]
  },
  {
   "cell_type": "raw",
   "id": "6976491c",
   "metadata": {},
   "source": [
    "instrument_data['bert_sentiment'],instrument_time=instrument_data['text'].apply(lambda x: bert_sentiment_analyzer(instrument_data,x))"
   ]
  },
  {
   "cell_type": "code",
   "execution_count": 159,
   "id": "15c74ecf",
   "metadata": {},
   "outputs": [],
   "source": [
    "music_data.to_csv('Music_sentiment_data.csv',index=False)\n",
    "instrument_data.to_csv('Instrument_sentiment_data.csv',index=False)"
   ]
  },
  {
   "cell_type": "code",
   "execution_count": 158,
   "id": "9a6d2c5b",
   "metadata": {},
   "outputs": [],
   "source": [
    "m1.to_csv('Music_ml_data.csv',index=False)\n",
    "i1.to_csv('Instrument_ml_data.csv',index=False)"
   ]
  },
  {
   "cell_type": "code",
   "execution_count": 106,
   "id": "feeaa47d",
   "metadata": {},
   "outputs": [],
   "source": [
    "tokenizer=AutoTokenizer.from_pretrained(\"nlptown/bert-base-multilingual-uncased-sentiment\")"
   ]
  },
  {
   "cell_type": "code",
   "execution_count": 107,
   "id": "941af70c",
   "metadata": {},
   "outputs": [],
   "source": [
    "model=AutoModelForSequenceClassification.from_pretrained(\"nlptown/bert-base-multilingual-uncased-sentiment\")"
   ]
  },
  {
   "cell_type": "code",
   "execution_count": 110,
   "id": "97b92533",
   "metadata": {},
   "outputs": [],
   "source": [
    "sd=time.time()\n",
    "tokens=tokenizer.encode('''this guitar is good for a year old it s a beautiful guitar but a \n",
    "small size guitar the scale length of an average guitar should be around and this only has a scale length that \n",
    "makes a difference if you are looking to fit a year old other than the scale length i would say this is a good guitar \n",
    "so if you are looking for a young child and want a step up from a toy then this would be your choice small size guitar''',return_tensors='pt')\n",
    "result=model(tokens)\n",
    "\n",
    "sw=time.time()"
   ]
  },
  {
   "cell_type": "code",
   "execution_count": 111,
   "id": "dc66cfce",
   "metadata": {},
   "outputs": [
    {
     "data": {
      "text/plain": [
       "0.41034603118896484"
      ]
     },
     "execution_count": 111,
     "metadata": {},
     "output_type": "execute_result"
    }
   ],
   "source": [
    "sw-sd"
   ]
  },
  {
   "cell_type": "code",
   "execution_count": null,
   "id": "a1f3423b",
   "metadata": {},
   "outputs": [],
   "source": [
    "print(\"This sentence gets\", int(torch.argmax(result.logits))+1, \"stars !\")\n"
   ]
  },
  {
   "cell_type": "code",
   "execution_count": null,
   "id": "2739fa11",
   "metadata": {},
   "outputs": [],
   "source": []
  }
 ],
 "metadata": {
  "kernelspec": {
   "display_name": "Python 3 (ipykernel)",
   "language": "python",
   "name": "python3"
  },
  "language_info": {
   "codemirror_mode": {
    "name": "ipython",
    "version": 3
   },
   "file_extension": ".py",
   "mimetype": "text/x-python",
   "name": "python",
   "nbconvert_exporter": "python",
   "pygments_lexer": "ipython3",
   "version": "3.9.12"
  }
 },
 "nbformat": 4,
 "nbformat_minor": 5
}
